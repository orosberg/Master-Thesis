{
 "cells": [
  {
   "cell_type": "markdown",
   "metadata": {},
   "source": [
    "# Initial"
   ]
  },
  {
   "cell_type": "markdown",
   "metadata": {},
   "source": [
    "## Imports"
   ]
  },
  {
   "cell_type": "code",
   "execution_count": 26,
   "metadata": {},
   "outputs": [],
   "source": [
    "import pandas as pd\n",
    "import numpy as np\n",
    "import os\n",
    "import itertools\n",
    "from collections import Counter\n",
    "\n",
    "from combat.pycombat import pycombat\n",
    "\n",
    "from sklearn.model_selection import train_test_split, GridSearchCV, KFold, StratifiedKFold\n",
    "from skopt import BayesSearchCV\n",
    "from sklearn.pipeline import make_pipeline, Pipeline\n",
    "from sklearn.model_selection import RepeatedStratifiedKFold, cross_val_score\n",
    "from sklearn.metrics import accuracy_score, f1_score, confusion_matrix, ConfusionMatrixDisplay, roc_auc_score\n",
    "from imblearn.over_sampling import SMOTE\n",
    "import matplotlib.pyplot as plt\n",
    "\n",
    "from sklearn.linear_model import LogisticRegression, Lasso, LogisticRegressionCV, LassoCV\n",
    "from sklearn.ensemble import RandomForestClassifier\n",
    "from sklearn.preprocessing import StandardScaler\n",
    "from sklearn.feature_selection import RFE\n",
    "\n",
    "from xgboost import XGBClassifier\n",
    "from time import time"
   ]
  },
  {
   "cell_type": "markdown",
   "metadata": {},
   "source": [
    "## Code"
   ]
  },
  {
   "cell_type": "markdown",
   "metadata": {},
   "source": [
    "### Fixing Datasets"
   ]
  },
  {
   "cell_type": "code",
   "execution_count": 78,
   "metadata": {},
   "outputs": [],
   "source": [
    "def import_csv_files(path, starts_with, ends_with = \".csv\"):\n",
    "    \"\"\"Imports csv files based on path and starting characters.\n",
    "\n",
    "    :param path: Path of where to find csv files.\n",
    "    :param starts_with: Starting characters of dataframes to find.\n",
    "    :param ends_with: Type of file to load.\n",
    "    :return: List of loaded csv files.\n",
    "    \"\"\"    \n",
    "    file_list = []\n",
    "    for filename in os.listdir(path):\n",
    "        if filename.startswith(starts_with) and filename.endswith(ends_with):\n",
    "            file_path = os.path.join(path, filename)\n",
    "            file_list.append(pd.read_csv(file_path))\n",
    "    return file_list"
   ]
  },
  {
   "cell_type": "code",
   "execution_count": 79,
   "metadata": {},
   "outputs": [],
   "source": [
    "def same_shape(dfs : list):\n",
    "    \"\"\"Checks if all dataframes in a list have the same shape.\n",
    "\n",
    "    :param dfs: List of dataframes.\n",
    "    :return: Boolean value if all dataframes have the same shape.\n",
    "    \"\"\"    \n",
    "    return all(df.shape == dfs[0].shape for df in dfs)"
   ]
  },
  {
   "cell_type": "code",
   "execution_count": 80,
   "metadata": {},
   "outputs": [],
   "source": [
    "def get_average_from_m_datasets(dfs : list):\n",
    "    \"\"\"Pools imputed dataset into a single dataframe.\n",
    "\n",
    "    :param dfs: List of dataframes.\n",
    "    :return: Singular, pooled dataframe.\n",
    "    \"\"\"    \n",
    "    if not same_shape:\n",
    "        print(\"Dataframes must have the same shape\")\n",
    "    joined = pd.concat(dfs).reset_index() \n",
    "    return joined.groupby('index').mean()"
   ]
  },
  {
   "cell_type": "markdown",
   "metadata": {},
   "source": [
    "### Cleaning and Perturbation"
   ]
  },
  {
   "cell_type": "code",
   "execution_count": 81,
   "metadata": {},
   "outputs": [],
   "source": [
    "def run_combat(df, TMT_set_indices):\n",
    "    \"\"\"Run ComBat to reduce batch effect on a dataframe.\n",
    "\n",
    "    :param df: Dataframe that ComBat is runned on\n",
    "    :param TMT_set_indices: Labels of which TMT batch each row belongs to.\n",
    "    :return: DF with ComBat applied to it\n",
    "    \"\"\"    \n",
    "    return pycombat(df.T, TMT_set_indices).T"
   ]
  },
  {
   "cell_type": "code",
   "execution_count": 82,
   "metadata": {},
   "outputs": [],
   "source": [
    "def add_noise(df, n_samples, std = 0.1):\n",
    "    \"\"\"Helper function for simple perturbation function. Adds gaussian noise to randomly sampled rows of the df passed as an argument.\n",
    "\n",
    "    :param df: df filtered on class\n",
    "    :param n_samples: Number of samples to perform random sampling on\n",
    "    :param std: Standard deviation. Defaults to 0.1.\n",
    "    :return: df with added perturbed samples\n",
    "    \"\"\"      \n",
    "    sampled_df = df.sample(n = n_samples, replace = True)\n",
    "    gaussian_noise = np.random.normal(0, std, size=sampled_df.shape)\n",
    "    return sampled_df + gaussian_noise"
   ]
  },
  {
   "cell_type": "code",
   "execution_count": 83,
   "metadata": {},
   "outputs": [],
   "source": [
    "def simple_perturbation(X, y, n_samples_per_class = None, std = 0.1):\n",
    "    \"\"\"Performs a simple perturbation by sampling random rows of classes and adds gaussian noise to them\n",
    "\n",
    "    :param X: Dataframe with samples to get perturbed\n",
    "    :param y: Class labels\n",
    "    :param n_samples_per_class: Decides how many samples per class that are going to be sampled, defaults to None. \n",
    "    If none -> all classes will get equal weight according to size of current largest class.\n",
    "    :param std: How much the noise can deviate from the mean (Standard dev.), defaults to 0.1\n",
    "    :return: A df with the perturbed samples. A list stating which row belongs to which class.\n",
    "    \"\"\"    \n",
    "    classes = y.value_counts()\n",
    "    if n_samples_per_class is None:\n",
    "        largest_class = classes.argmax()\n",
    "        largest_n_samples = classes.pop(largest_class)\n",
    "    else:\n",
    "        largest_n_samples = n_samples_per_class\n",
    "    df_list = []\n",
    "    y_new_classes = list(y)\n",
    "    for idx, n_samples in classes.items():\n",
    "        perturbed = add_noise(X[y == idx], largest_n_samples - n_samples, std=std)\n",
    "        df_list.append(perturbed)\n",
    "        y_new_classes = y_new_classes + [idx] * len(perturbed)\n",
    "    return pd.concat([X] + df_list, axis=0), y_new_classes"
   ]
  },
  {
   "cell_type": "markdown",
   "metadata": {},
   "source": [
    "### GridSearch and Feature Importance"
   ]
  },
  {
   "cell_type": "code",
   "execution_count": 84,
   "metadata": {},
   "outputs": [],
   "source": [
    "def get_best_params(X, y, models, params, cv = 5, n_jobs = -1):\n",
    "    \"\"\"Runs GridSearchCV in order to find best parameters on one or more models.\n",
    "\n",
    "    :param X: The training data for the models.\n",
    "    :param y: The correct classification of the training data.\n",
    "    :param models: A list of models to be trained.\n",
    "    :param params: A dictionary with the parameters for each model to be GridSearched.\n",
    "    :param cv: The K-fold cross validation value.\n",
    "    :param n_jobs: Number of cores to use for GridSearchCV.\n",
    "\n",
    "    :return: DF with ComBat applied to it\n",
    "    \"\"\"   \n",
    "    best_params = {}\n",
    "    for model, param in zip(models, params):\n",
    "        start_time = time()\n",
    "        print(f\"\\033[97m{model.name} started.\")\n",
    "        clf = GridSearchCV(model, param_grid=param, cv=cv, n_jobs=n_jobs, scoring=\"f1_weighted\")\n",
    "        clf.fit(X, y)\n",
    "        best_params[model.name] = clf.best_params_\n",
    "        print(f\"{model.name} is done in {time() - start_time} seconds.\\n\" )\n",
    "    return best_params"
   ]
  },
  {
   "cell_type": "code",
   "execution_count": 106,
   "metadata": {},
   "outputs": [],
   "source": [
    "def get_best_params_bayes(X, y, models, params, n_iter = 10, cv = 3, n_jobs = -1):\n",
    "    \"\"\"Runs GridSearchCV in order to find best parameters on one or more models.\n",
    "\n",
    "    :param X: The training data for the models.\n",
    "    :param y: The correct classification of the training data.\n",
    "    :param models: A list of models to be trained.\n",
    "    :param params: A dictionary with the parameters for each model to be GridSearched.\n",
    "    :param cv: The K-fold cross validation value.\n",
    "    :param n_jobs: Number of cores to use for GridSearchCV.\n",
    "\n",
    "    :return: DF with ComBat applied to it\n",
    "    \"\"\"   \n",
    "    best_params = {}\n",
    "    for model, param in zip(models, params):\n",
    "        start_time = time()\n",
    "        print(f\"\\033[97m{model.name} started.\")\n",
    "        clf = BayesSearchCV(model, search_spaces=param, n_iter=n_iter, cv=cv, n_jobs=n_jobs, scoring=\"f1_weighted\")\n",
    "        clf.fit(X, y)\n",
    "        best_params[model.name] = clf.best_params_\n",
    "        print(f\"{model.name} is done in {time() - start_time} seconds.\\n\" )\n",
    "    return best_params"
   ]
  },
  {
   "cell_type": "code",
   "execution_count": 86,
   "metadata": {},
   "outputs": [],
   "source": [
    "def get_average_feature_importance_XGB_RF(models, df):\n",
    "    \"\"\"Extracts feature importance from the same models over multiple iterations, averaging them over each iteration.\n",
    "\n",
    "    :param models: Models to extract feature importance from.\n",
    "    :param df: Original dataframe in order to map feature importances to column names.\n",
    "    :return: Dictionary with column name as keys and average feature importance as values.\n",
    "    \"\"\"  \n",
    "    avg_feature_importance = {}\n",
    "    for model in models:\n",
    "        importances = model.feature_importances_\n",
    "        for index, importance in enumerate(importances):\n",
    "            name = df.columns[index]\n",
    "            if name in avg_feature_importance:\n",
    "                avg_feature_importance[name] += importance\n",
    "            else:\n",
    "                avg_feature_importance[name] = importance\n",
    "    for feature, total in avg_feature_importance.items():\n",
    "        mean = total / len(models)\n",
    "        avg_feature_importance[feature] = mean\n",
    "    \n",
    "    return avg_feature_importance"
   ]
  },
  {
   "cell_type": "code",
   "execution_count": 87,
   "metadata": {},
   "outputs": [],
   "source": [
    "def get_average_feature_importance_LR(models, df):\n",
    "    \"\"\"Extracts feature importance from the same models over multiple iterations, averaging them over each iteration.\n",
    "\n",
    "    :param models: Models to extract feature importance from.\n",
    "    :param df: Original dataframe in order to map feature importances to column names.\n",
    "    :return: Dictionary with column name as keys and average feature importance as values.\n",
    "    \"\"\"  \n",
    "    all_coefficients = []\n",
    "    feature_names = df.columns.tolist()\n",
    "    \n",
    "    for model in models:\n",
    "        coefficients = model.coef_[0]\n",
    "        abs_coefficients = np.abs(coefficients)\n",
    "        all_coefficients.append(abs_coefficients)\n",
    "    \n",
    "    avg_coefficients = np.mean(all_coefficients, axis=0)\n",
    "    normalized_coefficients = avg_coefficients / np.sum(avg_coefficients)\n",
    "    feature_importance = dict(zip(feature_names, normalized_coefficients))\n",
    "    \n",
    "    return feature_importance"
   ]
  },
  {
   "cell_type": "code",
   "execution_count": 88,
   "metadata": {},
   "outputs": [],
   "source": [
    "def get_average_feature_importance(d, model_name, df):\n",
    "    \"\"\"Wrapper function in order to extract average feature importance across multiple iterations of multiple models.\n",
    "\n",
    "    :param d: Dictionary with models.\n",
    "    :param model_name: Name of the model.\n",
    "    :param df: Original dataframe in order to map feature importances to column names.\n",
    "    :return: Dictionary with column name as keys and average feature importance as values.\n",
    "    \"\"\"  \n",
    "    models = [model for key, model in d.items() if key.startswith(f'{model_name}')]\n",
    "    if model_name == \"LR\":\n",
    "        return get_average_feature_importance_LR(models, df)\n",
    "    return get_average_feature_importance_XGB_RF(models, df)"
   ]
  },
  {
   "cell_type": "markdown",
   "metadata": {},
   "source": [
    "### Voting"
   ]
  },
  {
   "cell_type": "code",
   "execution_count": 89,
   "metadata": {},
   "outputs": [],
   "source": [
    "def hard_voting(models):\n",
    "    \"\"\"Hard voting based on predictions from multiple models.\n",
    "\n",
    "    :param models: List of trained models.\n",
    "    :return: Hard voting results.\n",
    "    \"\"\"  \n",
    "    predictions = [model.prediction for model in models]\n",
    "    predictions = [[row[i] for row in predictions] for i in range(len(predictions[0]))]\n",
    "    results = []\n",
    "    for index, p in enumerate(predictions):\n",
    "        most_common = Counter(p).most_common()\n",
    "        if len(most_common) > 1 and most_common[0][1] == most_common[1][1]:\n",
    "            probabilities = [model.probability[index] for model in models]\n",
    "            probabilities = [[row[i] for row in probabilities] for i in range(len(probabilities[0]))]\n",
    "            probabilities = [sum(sublist) for sublist in probabilities]\n",
    "            if len(most_common) > 2 and most_common[0][1] == most_common[2][1]:\n",
    "                results.append(np.argmax(probabilities))\n",
    "            else:\n",
    "                probabilities[most_common[2][0]] = 0\n",
    "                results.append(np.argmax(probabilities))\n",
    "        else:\n",
    "            results.append(most_common[0][0])\n",
    "\n",
    "    return results  "
   ]
  },
  {
   "cell_type": "code",
   "execution_count": 90,
   "metadata": {},
   "outputs": [],
   "source": [
    "def summed_votes(pred_proba):\n",
    "    \"\"\"Summs the soft vote prediction probability together.\n",
    "\n",
    "    :param pred_proba: The prediciton probability from the different models.\n",
    "    :return: The summized prediction probability.\n",
    "    \"\"\"  \n",
    "    length = len(pred_proba[0])\n",
    "    summed_columns = []\n",
    "\n",
    "    for i in range(length):\n",
    "        column_sum = np.sum([preds[i] for preds in pred_proba], axis=0)\n",
    "        summed_columns.append(column_sum)\n",
    "\n",
    "    return summed_columns"
   ]
  },
  {
   "cell_type": "code",
   "execution_count": 91,
   "metadata": {},
   "outputs": [],
   "source": [
    "def soft_voting(models):\n",
    "    \"\"\"Soft voting based on predictions from multiple models.\n",
    "\n",
    "    :param models: List of trained models.\n",
    "    :return: Soft voting results.\n",
    "    \"\"\"  \n",
    "    probabilities = [model.probability for model in models]\n",
    "    probabilities = [[row[i] for row in probabilities] for i in range(len(probabilities[0]))]\n",
    "    results = []\n",
    "    for p in probabilities:\n",
    "        vote = summed_votes(p)\n",
    "        results.append(np.argmax(vote))\n",
    "    return results"
   ]
  },
  {
   "cell_type": "markdown",
   "metadata": {},
   "source": [
    "### Plotting Code"
   ]
  },
  {
   "cell_type": "code",
   "execution_count": 92,
   "metadata": {},
   "outputs": [],
   "source": [
    "def plot_confusion_matrix(ax, cm, classes, normalize=False, title='Confusion matrix', cmap=plt.cm.Blues):\n",
    "    \"\"\"Plots a confusion matrix.\n",
    "\n",
    "    :param ax: Axis to print confusion matrix on.\n",
    "    :param cm: Pre-made sklearn confusion matrix.\n",
    "    :param classes: Values of predicted classes.\n",
    "    :param normalize: If True, normalizes the values between 0 and 1.\n",
    "    :param title: Title of confusion matrix.\n",
    "    :param cmap: Colour of confusion matrix.\n",
    "    \"\"\" \n",
    "    if normalize:\n",
    "        cm = cm.astype('float') / cm.sum(axis=1)[:, np.newaxis]\n",
    "        \n",
    "    ax.imshow(cm, interpolation='nearest', cmap=cmap)\n",
    "    ax.set_title(title)\n",
    "    tick_marks = np.arange(len(classes))\n",
    "    ax.set_xticks(tick_marks)\n",
    "    ax.set_xticklabels(classes, rotation=45)\n",
    "    ax.set_yticks(tick_marks)\n",
    "    ax.set_yticklabels(classes)\n",
    "\n",
    "    fmt = '.2f' if normalize else 'd'\n",
    "    thresh = cm.max() / 2.\n",
    "    for i, j in itertools.product(range(cm.shape[0]), range(cm.shape[1])):\n",
    "        ax.text(j, i, format(cm[i, j], fmt),\n",
    "                 horizontalalignment=\"center\",\n",
    "                 color=\"white\" if cm[i, j] > thresh else \"black\")\n",
    "\n",
    "    ax.set_ylabel('True label')\n",
    "    ax.set_xlabel('Predicted label')"
   ]
  },
  {
   "cell_type": "code",
   "execution_count": 93,
   "metadata": {},
   "outputs": [],
   "source": [
    "def plot_soft_vote_confusion_matrix(y_real, y_pred, title=\"Confusion Matrix\"):\n",
    "    \"\"\"Wrapper function for plot_confusion_matrix.\n",
    "\n",
    "    :param y_real: The real y class.\n",
    "    :param y_pred: The predicted y class.\n",
    "    \"\"\"      \n",
    "    cnf_matrix = confusion_matrix(y_real, y_pred)\n",
    "    np.set_printoptions(precision=2)\n",
    "    fig, axs = plt.subplots(1, 2, figsize=(12, 6))\n",
    "\n",
    "    plot_confusion_matrix(axs[0], cnf_matrix, classes=['CN', 'MCI', 'AD'],\n",
    "                          title=f'{title}, no normalization')\n",
    "\n",
    "    plot_confusion_matrix(axs[1], cnf_matrix, classes=['CN', 'MCI', 'AD'], normalize=True,\n",
    "                          title=f'{title}, normalized')\n",
    "\n",
    "    plt.show()"
   ]
  },
  {
   "cell_type": "code",
   "execution_count": 94,
   "metadata": {},
   "outputs": [],
   "source": [
    "def plot_percentiles(percentiles, labels, title=\"Accuracy scores\"):\n",
    "    \"\"\"\n",
    "    Plot percentiles against labels.\n",
    "\n",
    "    :param percentiles: List of percentiles.\n",
    "    :param labels: List of strings (labels).\n",
    "    \"\"\"\n",
    "    x = range(len(labels))\n",
    "    \n",
    "    plt.figure(figsize=(8, 6))\n",
    "    plt.bar(x, percentiles, color='skyblue')\n",
    "    plt.xlabel('Models')\n",
    "    plt.ylabel('Score')\n",
    "    plt.title(title)\n",
    "    plt.xticks(x, labels)\n",
    "    plt.ylim(0, 1)\n",
    "    plt.show()"
   ]
  },
  {
   "cell_type": "code",
   "execution_count": 95,
   "metadata": {},
   "outputs": [],
   "source": [
    "def plot_feature_importance(dict1, dict2, dict3, models=[\"Model1\", \"Model2\", \"Model3\"], main_model = None, colours = [\"b\", \"g\", \"r\"]):\n",
    "    \"\"\"\n",
    "    Plots feature importance from three dictionaries.\n",
    "\n",
    "    :param dict: \n",
    "    :param labels: List of strings (labels).\n",
    "    \"\"\"\n",
    "    sorted_dict1 = dict(sorted(dict1.items(), key=lambda item: item[1], reverse=True))\n",
    "    top_features_dict1 = list(sorted_dict1.items())[:15]\n",
    "    top_features_keys = [key for key, _ in top_features_dict1]\n",
    "\n",
    "    feature_importance_dict1 = [val for _, val in top_features_dict1]\n",
    "    feature_importance_dict2 = [dict2[key] for key in top_features_keys]\n",
    "    feature_importance_dict3 = [dict3[key] for key in top_features_keys]\n",
    "\n",
    "    fig, ax = plt.subplots(figsize=(10, 5))\n",
    "    ax.bar([i - 0.2 for i in range(15)], feature_importance_dict1, width=0.2, color=colours[0], label=models[0])\n",
    "    ax.bar([i for i in range(15)], feature_importance_dict2, width=0.2, color=colours[1], label=models[1])\n",
    "    ax.bar([i + 0.2 for i in range(15)], feature_importance_dict3, width=0.2, color=colours[2], label=models[2])\n",
    "\n",
    "    ax.set_xticks(range(15))\n",
    "    ax.set_xticklabels(top_features_keys, rotation=90)\n",
    "    ax.set_xlabel('Features')\n",
    "    ax.set_ylabel('Importance')\n",
    "    ax.set_title(f\"Top 15 feature from {main_model}\")\n",
    "    ax.legend()\n",
    "\n",
    "    plt.tight_layout()\n",
    "    plt.show()"
   ]
  },
  {
   "cell_type": "markdown",
   "metadata": {},
   "source": [
    "### Main Pipeline"
   ]
  },
  {
   "cell_type": "code",
   "execution_count": 103,
   "metadata": {},
   "outputs": [],
   "source": [
    "def create_models(iteration):\n",
    "    \"\"\"Creates 3 new basemodels with names depending on iteration.\n",
    "\n",
    "    :param iteration: Current iteration in K-Fold cross validation.\n",
    "    :return: List of base models.\n",
    "    \"\"\"      \n",
    "    xgboost = XGBClassifier()\n",
    "    xgboost.name = f\"XGB {iteration}\"\n",
    "    #lr = LogisticRegression()\n",
    "    #lr.name = f\"LR {iteration}\"\n",
    "    #rf = RandomForestClassifier()\n",
    "    #rf.name = f\"RF {iteration}\"\n",
    "\n",
    "    return [xgboost]#, lr, rf]"
   ]
  },
  {
   "cell_type": "code",
   "execution_count": 107,
   "metadata": {},
   "outputs": [],
   "source": [
    "def pipeline(X, y, params, tmt_set = None, K = 10, n_samples_per_class = 100):\n",
    "    \"\"\"Main pipeline code that runs K-fold validation.\n",
    "\n",
    "    :param X: Dataframe of X values for training.\n",
    "    :param y: Pandas series of real class values for training \n",
    "    :param params: Parameter settings to get best parameters from.\n",
    "    :param tmt_set: Pandas series with indexes for batches from TMT sets.\n",
    "    :param K: Number of K-fold iterations to run.\n",
    "    :param n_samples_per_class: Number of samples per class that should exist after perturbation.\n",
    "    :return: -\n",
    "    \"\"\"  \n",
    "    all_models = {}\n",
    "    votes = {}\n",
    "    y_true = {}\n",
    "    k_fold = StratifiedKFold(n_splits=K, shuffle=True)\n",
    "    print(\"\\n-------------- Starting K-fold cross validation: --------------\\n\")\n",
    "    for i, (train_index, test_index) in enumerate(k_fold.split(X, y)):\n",
    "        print(f\"\\033[94mK-Fold validation: Iteration {i}.\")\n",
    "        X_train, X_test = X.loc[train_index], X.loc[test_index]\n",
    "        y_train, y_test = y.loc[train_index], y.loc[test_index]\n",
    "        X_train, y_train = simple_perturbation(X_train, y_train, n_samples_per_class=n_samples_per_class)\n",
    "        scaler = StandardScaler()\n",
    "        X_train = scaler.fit_transform(X_train)\n",
    "        X_test = scaler.transform(X_test)\n",
    "        models = create_models(i)\n",
    "        best_params = get_best_params_bayes(X_train, y_train, models, params)\n",
    "        y_true[f'{i}'] = y_test\n",
    "        best_models = []\n",
    "        for model in models:\n",
    "            best_model = model.__class__(**best_params[model.name])\n",
    "            best_model.name = model.name\n",
    "            best_model.fit(X_train, y_train)\n",
    "            best_model.prediction = best_model.predict(X_test)\n",
    "            best_model.probability = best_model.predict_proba(X_test)\n",
    "            all_models[best_model.name] = best_model\n",
    "            best_models.append(best_model)\n",
    "        hard = f'Hard vote {i}'\n",
    "        soft = f'Soft vote {i}'\n",
    "        votes[hard] = hard_voting(best_models)\n",
    "        votes[soft] = soft_voting(best_models)\n",
    "        print(f'\\033[92mHard vote F1 score: {f1_score(y_test, votes[hard], average=\"weighted\")}')\n",
    "        print(f'\\033[92mSoft vote F1 score: {f1_score(y_test, votes[soft], average=\"weighted\")}\\n')\n",
    "    \n",
    "    return all_models, votes, y_true"
   ]
  },
  {
   "cell_type": "markdown",
   "metadata": {},
   "source": [
    "# Pipeline"
   ]
  },
  {
   "cell_type": "markdown",
   "metadata": {},
   "source": [
    "## Data"
   ]
  },
  {
   "cell_type": "code",
   "execution_count": 27,
   "metadata": {},
   "outputs": [
    {
     "name": "stdout",
     "output_type": "stream",
     "text": [
      "Found 15 batches.\n",
      "Adjusting for 0 covariate(s) or covariate level(s).\n",
      "Standardizing Data across genes.\n",
      "Fitting L/S model and finding priors.\n",
      "Finding parametric adjustments.\n",
      "Adjusting the Data\n"
     ]
    }
   ],
   "source": [
    "#Loading dataframes, Pooling and classes.\n",
    "path = \"./Data/data files/imputed\"\n",
    "starts_with = \"protein_lumbar\"\n",
    "dfs = import_csv_files(path=path, starts_with=starts_with)\n",
    "df_main = get_average_from_m_datasets(dfs)\n",
    "\n",
    "df_classes = pd.read_csv(\"./Data/data files/iNPH_data_protein_median.csv\", usecols=[\"Cortical_biopsy_grouping\", \"CSF_type\", \"TMT Set\"])\n",
    "df_classes = df_classes[df_classes[\"CSF_type\"] == \"L\"].reset_index(drop=True)\n",
    "tmt_set = df_classes[\"TMT Set\"]\n",
    "y = df_classes[\"Cortical_biopsy_grouping\"]\n",
    "\n",
    "df_main = run_combat(df_main, tmt_set)"
   ]
  },
  {
   "cell_type": "markdown",
   "metadata": {},
   "source": [
    "## Parameters for GridSearchCV"
   ]
  },
  {
   "cell_type": "code",
   "execution_count": 113,
   "metadata": {},
   "outputs": [],
   "source": [
    "#Good overall results\n",
    "#XGBoost better than RF, but very slow\n",
    "#LR Strong, and super fast\n",
    "#Build more on RF?\n",
    "xgboost_params = {\"eta\": [0.1, 0.2, 0.3],\n",
    "                  \"min_child_weight\": [0.45],\n",
    "                  \"gamma\": [0.0001, 0.001, 0.01, 0.1, 1, 10],\n",
    "                  \"reg_lambda\": [0.7, 0.85, 1],\n",
    "                  \"max_depth\": [3, 4, 5, 6, 10, 20],\n",
    "                  \"n_estimators\": [100,150,200]}\n",
    "lr_params = {\"penalty\": [\"elasticnet\"],\n",
    "              \"C\": [0.0001, 0.001, 0.01, 0.1, 1, 5, 10, 50, 100],\n",
    "              \"solver\": [\"saga\"],\n",
    "              \"multi_class\": [\"multinomial\"],\n",
    "              \"max_iter\": [4000, 6000, 8000, 10000],\n",
    "              \"tol\": [1e-2, 1e-3, 1e-4],\n",
    "              \"n_jobs\": [-1],\n",
    "              \"l1_ratio\": [0.3, 0.5, 0.8, 1]}\n",
    "rf_params = {\"n_estimators\": [300, 400],\n",
    "             \"criterion\": [\"gini\", \"entropy\", \"log_loss\"],\n",
    "             \"max_depth\": [5, 10, 20],\n",
    "             \"max_features\": [\"sqrt\", \"log2\"],\n",
    "             \"n_jobs\": [-1],\n",
    "             \"min_samples_leaf\": [1,2,4]}\n",
    "\n",
    "params = [xgboost_params, lr_params, rf_params]"
   ]
  },
  {
   "cell_type": "code",
   "execution_count": 166,
   "metadata": {},
   "outputs": [],
   "source": [
    "#FASTER, HARDER, SCOOTER\n",
    "xgboost_params = {\"eta\": [0.2, 0.3],#\n",
    "                  \"min_child_weight\": [0.45],\n",
    "                  \"gamma\": [0.0001, 0.01, 1],\n",
    "                  \"subsample\": [0.4, 0.8],\n",
    "                  \"reg_lambda\": [0.85],\n",
    "                  \"lambda\": [0.5, 0.7],\n",
    "                  \"max_depth\": [4, 6],#\n",
    "                  \"n_estimators\": [150]}#\n",
    "lr_params = {\"penalty\": [\"elasticnet\"],\n",
    "              \"C\": [0.0001, 0.01, 1, 10, 100],\n",
    "              \"solver\": [\"saga\"],\n",
    "              \"multi_class\": [\"multinomial\"],\n",
    "              \"max_iter\": [4000, 8000, 12000],\n",
    "              \"tol\": [1e-2, 1e-3, 1e-4],\n",
    "              \"n_jobs\": [-1],\n",
    "              \"l1_ratio\": [0, 0.3, 0.5, 0.8, 1]}\n",
    "rf_params = {\"n_estimators\": [300, 400],\n",
    "             \"criterion\": [\"gini\", \"entropy\", \"log_loss\"],\n",
    "             \"max_depth\": [5, 10, 20],\n",
    "             \"max_features\": [\"sqrt\", \"log2\"],\n",
    "             \"n_jobs\": [-1],\n",
    "             \"min_samples_leaf\": [1,2,4]}\n",
    "\n",
    "params = [xgboost_params, lr_params, rf_params]"
   ]
  },
  {
   "cell_type": "markdown",
   "metadata": {},
   "source": [
    "## K-Fold-Pipeline"
   ]
  },
  {
   "cell_type": "code",
   "execution_count": 44,
   "metadata": {},
   "outputs": [
    {
     "name": "stdout",
     "output_type": "stream",
     "text": [
      "\n",
      "-------------- Starting K-fold cross validation: --------------\n",
      "\n",
      "\u001b[94mK-Fold validation: Iteration 0.\n",
      "\u001b[97mXGB 0 started.\n"
     ]
    },
    {
     "name": "stderr",
     "output_type": "stream",
     "text": [
      "c:\\Users\\Toffe\\anaconda3\\Lib\\site-packages\\skopt\\space\\space.py:110: UserWarning: Dimension [0.85, 1] was inferred to Real(low=0.85, high=1.0, prior='uniform', transform='identity'). In upcoming versions of scikit-optimize, it will be inferred to Categorical(categories=(0.85, 1), prior=None). See the documentation of the check_dimension function for the upcoming API.\n",
      "  warnings.warn(\n",
      "c:\\Users\\Toffe\\anaconda3\\Lib\\site-packages\\skopt\\space\\space.py:110: UserWarning: Dimension [0.85, 1] was inferred to Real(low=0.85, high=1.0, prior='uniform', transform='identity'). In upcoming versions of scikit-optimize, it will be inferred to Categorical(categories=(0.85, 1), prior=None). See the documentation of the check_dimension function for the upcoming API.\n",
      "  warnings.warn(\n",
      "c:\\Users\\Toffe\\anaconda3\\Lib\\site-packages\\skopt\\space\\space.py:110: UserWarning: Dimension [0.85, 1] was inferred to Real(low=0.85, high=1.0, prior='uniform', transform='identity'). In upcoming versions of scikit-optimize, it will be inferred to Categorical(categories=(0.85, 1), prior=None). See the documentation of the check_dimension function for the upcoming API.\n",
      "  warnings.warn(\n"
     ]
    },
    {
     "name": "stdout",
     "output_type": "stream",
     "text": [
      "XGB 0 is done in 142.8471794128418 seconds.\n",
      "\n",
      "\u001b[97mLR 0 started.\n"
     ]
    },
    {
     "ename": "KeyboardInterrupt",
     "evalue": "",
     "output_type": "error",
     "traceback": [
      "\u001b[1;31m---------------------------------------------------------------------------\u001b[0m",
      "\u001b[1;31mKeyboardInterrupt\u001b[0m                         Traceback (most recent call last)",
      "Cell \u001b[1;32mIn[44], line 2\u001b[0m\n\u001b[0;32m      1\u001b[0m \u001b[38;5;66;03m#Run Pipeline\u001b[39;00m\n\u001b[1;32m----> 2\u001b[0m all_models, votes, y_true \u001b[38;5;241m=\u001b[39m pipeline(df_union, y, params, tmt_set)\n",
      "Cell \u001b[1;32mIn[36], line 26\u001b[0m, in \u001b[0;36mpipeline\u001b[1;34m(X, y, params, tmt_set, K, n_samples_per_class)\u001b[0m\n\u001b[0;32m     24\u001b[0m X_test \u001b[38;5;241m=\u001b[39m scaler\u001b[38;5;241m.\u001b[39mtransform(X_test)\n\u001b[0;32m     25\u001b[0m models \u001b[38;5;241m=\u001b[39m create_models(i)\n\u001b[1;32m---> 26\u001b[0m best_params \u001b[38;5;241m=\u001b[39m get_best_params_bayes(X_train, y_train, models, params, n_iter\u001b[38;5;241m=\u001b[39m\u001b[38;5;241m50\u001b[39m)\n\u001b[0;32m     27\u001b[0m y_true[\u001b[38;5;124mf\u001b[39m\u001b[38;5;124m'\u001b[39m\u001b[38;5;132;01m{\u001b[39;00mi\u001b[38;5;132;01m}\u001b[39;00m\u001b[38;5;124m'\u001b[39m] \u001b[38;5;241m=\u001b[39m y_test\n\u001b[0;32m     28\u001b[0m best_models \u001b[38;5;241m=\u001b[39m []\n",
      "Cell \u001b[1;32mIn[43], line 18\u001b[0m, in \u001b[0;36mget_best_params_bayes\u001b[1;34m(X, y, models, params, n_iter, cv, n_jobs)\u001b[0m\n\u001b[0;32m     16\u001b[0m \u001b[38;5;28mprint\u001b[39m(\u001b[38;5;124mf\u001b[39m\u001b[38;5;124m\"\u001b[39m\u001b[38;5;130;01m\\033\u001b[39;00m\u001b[38;5;124m[97m\u001b[39m\u001b[38;5;132;01m{\u001b[39;00mmodel\u001b[38;5;241m.\u001b[39mname\u001b[38;5;132;01m}\u001b[39;00m\u001b[38;5;124m started.\u001b[39m\u001b[38;5;124m\"\u001b[39m)\n\u001b[0;32m     17\u001b[0m clf \u001b[38;5;241m=\u001b[39m BayesSearchCV(model, search_spaces\u001b[38;5;241m=\u001b[39mparam, n_iter\u001b[38;5;241m=\u001b[39mn_iter, cv\u001b[38;5;241m=\u001b[39mcv, n_jobs\u001b[38;5;241m=\u001b[39mn_jobs, scoring\u001b[38;5;241m=\u001b[39m\u001b[38;5;124m\"\u001b[39m\u001b[38;5;124mf1_weighted\u001b[39m\u001b[38;5;124m\"\u001b[39m)\n\u001b[1;32m---> 18\u001b[0m clf\u001b[38;5;241m.\u001b[39mfit(X, y)\n\u001b[0;32m     19\u001b[0m best_params[model\u001b[38;5;241m.\u001b[39mname] \u001b[38;5;241m=\u001b[39m clf\u001b[38;5;241m.\u001b[39mbest_params_\n\u001b[0;32m     20\u001b[0m \u001b[38;5;28mprint\u001b[39m(\u001b[38;5;124mf\u001b[39m\u001b[38;5;124m\"\u001b[39m\u001b[38;5;132;01m{\u001b[39;00mmodel\u001b[38;5;241m.\u001b[39mname\u001b[38;5;132;01m}\u001b[39;00m\u001b[38;5;124m is done in \u001b[39m\u001b[38;5;132;01m{\u001b[39;00mtime()\u001b[38;5;250m \u001b[39m\u001b[38;5;241m-\u001b[39m\u001b[38;5;250m \u001b[39mstart_time\u001b[38;5;132;01m}\u001b[39;00m\u001b[38;5;124m seconds.\u001b[39m\u001b[38;5;130;01m\\n\u001b[39;00m\u001b[38;5;124m\"\u001b[39m )\n",
      "File \u001b[1;32mc:\\Users\\Toffe\\anaconda3\\Lib\\site-packages\\skopt\\searchcv.py:538\u001b[0m, in \u001b[0;36mBayesSearchCV.fit\u001b[1;34m(self, X, y, groups, callback, **fit_params)\u001b[0m\n\u001b[0;32m    531\u001b[0m \u001b[38;5;28;01mif\u001b[39;00m \u001b[38;5;28mcallable\u001b[39m(\u001b[38;5;28mself\u001b[39m\u001b[38;5;241m.\u001b[39mrefit):\n\u001b[0;32m    532\u001b[0m     \u001b[38;5;28;01mraise\u001b[39;00m \u001b[38;5;167;01mValueError\u001b[39;00m(\n\u001b[0;32m    533\u001b[0m         \u001b[38;5;124m\"\u001b[39m\u001b[38;5;124mBayesSearchCV doesn\u001b[39m\u001b[38;5;124m'\u001b[39m\u001b[38;5;124mt support a callable refit, \u001b[39m\u001b[38;5;124m\"\u001b[39m\n\u001b[0;32m    534\u001b[0m         \u001b[38;5;124m\"\u001b[39m\u001b[38;5;124mas it doesn\u001b[39m\u001b[38;5;124m'\u001b[39m\u001b[38;5;124mt define an implicit score to \u001b[39m\u001b[38;5;124m\"\u001b[39m\n\u001b[0;32m    535\u001b[0m         \u001b[38;5;124m\"\u001b[39m\u001b[38;5;124moptimize\u001b[39m\u001b[38;5;124m\"\u001b[39m\n\u001b[0;32m    536\u001b[0m     )\n\u001b[1;32m--> 538\u001b[0m \u001b[38;5;28msuper\u001b[39m()\u001b[38;5;241m.\u001b[39mfit(X\u001b[38;5;241m=\u001b[39mX, y\u001b[38;5;241m=\u001b[39my, groups\u001b[38;5;241m=\u001b[39mgroups, \u001b[38;5;241m*\u001b[39m\u001b[38;5;241m*\u001b[39mfit_params)\n\u001b[0;32m    540\u001b[0m \u001b[38;5;66;03m# BaseSearchCV never ranked train scores,\u001b[39;00m\n\u001b[0;32m    541\u001b[0m \u001b[38;5;66;03m# but apparently we used to ship this (back-compat)\u001b[39;00m\n\u001b[0;32m    542\u001b[0m \u001b[38;5;28;01mif\u001b[39;00m \u001b[38;5;28mself\u001b[39m\u001b[38;5;241m.\u001b[39mreturn_train_score:\n",
      "File \u001b[1;32mc:\\Users\\Toffe\\anaconda3\\Lib\\site-packages\\sklearn\\base.py:1151\u001b[0m, in \u001b[0;36m_fit_context.<locals>.decorator.<locals>.wrapper\u001b[1;34m(estimator, *args, **kwargs)\u001b[0m\n\u001b[0;32m   1144\u001b[0m     estimator\u001b[38;5;241m.\u001b[39m_validate_params()\n\u001b[0;32m   1146\u001b[0m \u001b[38;5;28;01mwith\u001b[39;00m config_context(\n\u001b[0;32m   1147\u001b[0m     skip_parameter_validation\u001b[38;5;241m=\u001b[39m(\n\u001b[0;32m   1148\u001b[0m         prefer_skip_nested_validation \u001b[38;5;129;01mor\u001b[39;00m global_skip_validation\n\u001b[0;32m   1149\u001b[0m     )\n\u001b[0;32m   1150\u001b[0m ):\n\u001b[1;32m-> 1151\u001b[0m     \u001b[38;5;28;01mreturn\u001b[39;00m fit_method(estimator, \u001b[38;5;241m*\u001b[39margs, \u001b[38;5;241m*\u001b[39m\u001b[38;5;241m*\u001b[39mkwargs)\n",
      "File \u001b[1;32mc:\\Users\\Toffe\\anaconda3\\Lib\\site-packages\\sklearn\\model_selection\\_search.py:898\u001b[0m, in \u001b[0;36mBaseSearchCV.fit\u001b[1;34m(self, X, y, groups, **fit_params)\u001b[0m\n\u001b[0;32m    892\u001b[0m     results \u001b[38;5;241m=\u001b[39m \u001b[38;5;28mself\u001b[39m\u001b[38;5;241m.\u001b[39m_format_results(\n\u001b[0;32m    893\u001b[0m         all_candidate_params, n_splits, all_out, all_more_results\n\u001b[0;32m    894\u001b[0m     )\n\u001b[0;32m    896\u001b[0m     \u001b[38;5;28;01mreturn\u001b[39;00m results\n\u001b[1;32m--> 898\u001b[0m \u001b[38;5;28mself\u001b[39m\u001b[38;5;241m.\u001b[39m_run_search(evaluate_candidates)\n\u001b[0;32m    900\u001b[0m \u001b[38;5;66;03m# multimetric is determined here because in the case of a callable\u001b[39;00m\n\u001b[0;32m    901\u001b[0m \u001b[38;5;66;03m# self.scoring the return type is only known after calling\u001b[39;00m\n\u001b[0;32m    902\u001b[0m first_test_score \u001b[38;5;241m=\u001b[39m all_out[\u001b[38;5;241m0\u001b[39m][\u001b[38;5;124m\"\u001b[39m\u001b[38;5;124mtest_scores\u001b[39m\u001b[38;5;124m\"\u001b[39m]\n",
      "File \u001b[1;32mc:\\Users\\Toffe\\anaconda3\\Lib\\site-packages\\skopt\\searchcv.py:595\u001b[0m, in \u001b[0;36mBayesSearchCV._run_search\u001b[1;34m(self, evaluate_candidates)\u001b[0m\n\u001b[0;32m    591\u001b[0m \u001b[38;5;28;01mwhile\u001b[39;00m n_iter \u001b[38;5;241m>\u001b[39m \u001b[38;5;241m0\u001b[39m:\n\u001b[0;32m    592\u001b[0m     \u001b[38;5;66;03m# when n_iter < n_points points left for evaluation\u001b[39;00m\n\u001b[0;32m    593\u001b[0m     n_points_adjusted \u001b[38;5;241m=\u001b[39m \u001b[38;5;28mmin\u001b[39m(n_iter, n_points)\n\u001b[1;32m--> 595\u001b[0m     optim_result, score_name \u001b[38;5;241m=\u001b[39m \u001b[38;5;28mself\u001b[39m\u001b[38;5;241m.\u001b[39m_step(\n\u001b[0;32m    596\u001b[0m         search_space,\n\u001b[0;32m    597\u001b[0m         optimizer,\n\u001b[0;32m    598\u001b[0m         score_name,\n\u001b[0;32m    599\u001b[0m         evaluate_candidates,\n\u001b[0;32m    600\u001b[0m         n_points\u001b[38;5;241m=\u001b[39mn_points_adjusted,\n\u001b[0;32m    601\u001b[0m     )\n\u001b[0;32m    602\u001b[0m     n_iter \u001b[38;5;241m-\u001b[39m\u001b[38;5;241m=\u001b[39m n_points\n\u001b[0;32m    604\u001b[0m     \u001b[38;5;28;01mif\u001b[39;00m eval_callbacks(callbacks, optim_result):\n",
      "File \u001b[1;32mc:\\Users\\Toffe\\anaconda3\\Lib\\site-packages\\skopt\\searchcv.py:441\u001b[0m, in \u001b[0;36mBayesSearchCV._step\u001b[1;34m(self, search_space, optimizer, score_name, evaluate_candidates, n_points)\u001b[0m\n\u001b[0;32m    439\u001b[0m \u001b[38;5;250m\u001b[39m\u001b[38;5;124;03m\"\"\"Generate n_jobs parameters and evaluate them in parallel.\"\"\"\u001b[39;00m\n\u001b[0;32m    440\u001b[0m \u001b[38;5;66;03m# get parameter values to evaluate\u001b[39;00m\n\u001b[1;32m--> 441\u001b[0m params \u001b[38;5;241m=\u001b[39m optimizer\u001b[38;5;241m.\u001b[39mask(n_points\u001b[38;5;241m=\u001b[39mn_points)\n\u001b[0;32m    443\u001b[0m \u001b[38;5;66;03m# convert parameters to python native types\u001b[39;00m\n\u001b[0;32m    444\u001b[0m params \u001b[38;5;241m=\u001b[39m [[np\u001b[38;5;241m.\u001b[39marray(v)\u001b[38;5;241m.\u001b[39mitem() \u001b[38;5;28;01mfor\u001b[39;00m v \u001b[38;5;129;01min\u001b[39;00m p] \u001b[38;5;28;01mfor\u001b[39;00m p \u001b[38;5;129;01min\u001b[39;00m params]\n",
      "File \u001b[1;32mc:\\Users\\Toffe\\anaconda3\\Lib\\site-packages\\skopt\\optimizer\\optimizer.py:438\u001b[0m, in \u001b[0;36mOptimizer.ask\u001b[1;34m(self, n_points, strategy)\u001b[0m\n\u001b[0;32m    433\u001b[0m     \u001b[38;5;28;01mreturn\u001b[39;00m \u001b[38;5;28mself\u001b[39m\u001b[38;5;241m.\u001b[39mcache_[(n_points, strategy)]\n\u001b[0;32m    435\u001b[0m \u001b[38;5;66;03m# Copy of the optimizer is made in order to manage the\u001b[39;00m\n\u001b[0;32m    436\u001b[0m \u001b[38;5;66;03m# deletion of points with \"lie\" objective (the copy of\u001b[39;00m\n\u001b[0;32m    437\u001b[0m \u001b[38;5;66;03m# oiptimizer is simply discarded)\u001b[39;00m\n\u001b[1;32m--> 438\u001b[0m opt \u001b[38;5;241m=\u001b[39m \u001b[38;5;28mself\u001b[39m\u001b[38;5;241m.\u001b[39mcopy(random_state\u001b[38;5;241m=\u001b[39m\u001b[38;5;28mself\u001b[39m\u001b[38;5;241m.\u001b[39mrng\u001b[38;5;241m.\u001b[39mrandint(\u001b[38;5;241m0\u001b[39m, np\u001b[38;5;241m.\u001b[39miinfo(np\u001b[38;5;241m.\u001b[39mint32)\u001b[38;5;241m.\u001b[39mmax))\n\u001b[0;32m    440\u001b[0m X \u001b[38;5;241m=\u001b[39m []\n\u001b[0;32m    441\u001b[0m \u001b[38;5;28;01mfor\u001b[39;00m _ \u001b[38;5;129;01min\u001b[39;00m \u001b[38;5;28mrange\u001b[39m(n_points):\n",
      "File \u001b[1;32mc:\\Users\\Toffe\\anaconda3\\Lib\\site-packages\\skopt\\optimizer\\optimizer.py:380\u001b[0m, in \u001b[0;36mOptimizer.copy\u001b[1;34m(self, random_state)\u001b[0m\n\u001b[0;32m    378\u001b[0m     optimizer\u001b[38;5;241m.\u001b[39mgains_ \u001b[38;5;241m=\u001b[39m np\u001b[38;5;241m.\u001b[39mcopy(\u001b[38;5;28mself\u001b[39m\u001b[38;5;241m.\u001b[39mgains_)\n\u001b[0;32m    379\u001b[0m \u001b[38;5;28;01mif\u001b[39;00m \u001b[38;5;28mself\u001b[39m\u001b[38;5;241m.\u001b[39mXi:\n\u001b[1;32m--> 380\u001b[0m     optimizer\u001b[38;5;241m.\u001b[39m_tell(\u001b[38;5;28mself\u001b[39m\u001b[38;5;241m.\u001b[39mXi, \u001b[38;5;28mself\u001b[39m\u001b[38;5;241m.\u001b[39myi)\n\u001b[0;32m    382\u001b[0m \u001b[38;5;28;01mreturn\u001b[39;00m optimizer\n",
      "File \u001b[1;32mc:\\Users\\Toffe\\anaconda3\\Lib\\site-packages\\skopt\\optimizer\\optimizer.py:615\u001b[0m, in \u001b[0;36mOptimizer._tell\u001b[1;34m(self, x, y, fit)\u001b[0m\n\u001b[0;32m    613\u001b[0m \u001b[38;5;28;01mwith\u001b[39;00m warnings\u001b[38;5;241m.\u001b[39mcatch_warnings():\n\u001b[0;32m    614\u001b[0m     warnings\u001b[38;5;241m.\u001b[39msimplefilter(\u001b[38;5;124m\"\u001b[39m\u001b[38;5;124mignore\u001b[39m\u001b[38;5;124m\"\u001b[39m)\n\u001b[1;32m--> 615\u001b[0m     est\u001b[38;5;241m.\u001b[39mfit(\u001b[38;5;28mself\u001b[39m\u001b[38;5;241m.\u001b[39mspace\u001b[38;5;241m.\u001b[39mtransform(\u001b[38;5;28mself\u001b[39m\u001b[38;5;241m.\u001b[39mXi), \u001b[38;5;28mself\u001b[39m\u001b[38;5;241m.\u001b[39myi)\n\u001b[0;32m    617\u001b[0m \u001b[38;5;28;01mif\u001b[39;00m \u001b[38;5;28mhasattr\u001b[39m(\u001b[38;5;28mself\u001b[39m, \u001b[38;5;124m\"\u001b[39m\u001b[38;5;124mnext_xs_\u001b[39m\u001b[38;5;124m\"\u001b[39m) \u001b[38;5;129;01mand\u001b[39;00m \u001b[38;5;28mself\u001b[39m\u001b[38;5;241m.\u001b[39macq_func \u001b[38;5;241m==\u001b[39m \u001b[38;5;124m\"\u001b[39m\u001b[38;5;124mgp_hedge\u001b[39m\u001b[38;5;124m\"\u001b[39m:\n\u001b[0;32m    618\u001b[0m     \u001b[38;5;28mself\u001b[39m\u001b[38;5;241m.\u001b[39mgains_ \u001b[38;5;241m-\u001b[39m\u001b[38;5;241m=\u001b[39m est\u001b[38;5;241m.\u001b[39mpredict(np\u001b[38;5;241m.\u001b[39mvstack(\u001b[38;5;28mself\u001b[39m\u001b[38;5;241m.\u001b[39mnext_xs_))\n",
      "File \u001b[1;32mc:\\Users\\Toffe\\anaconda3\\Lib\\site-packages\\skopt\\learning\\gaussian_process\\gpr.py:203\u001b[0m, in \u001b[0;36mGaussianProcessRegressor.fit\u001b[1;34m(self, X, y)\u001b[0m\n\u001b[0;32m    199\u001b[0m     \u001b[38;5;28;01melif\u001b[39;00m \u001b[38;5;28mself\u001b[39m\u001b[38;5;241m.\u001b[39mnoise:\n\u001b[0;32m    200\u001b[0m         \u001b[38;5;28mself\u001b[39m\u001b[38;5;241m.\u001b[39mkernel \u001b[38;5;241m=\u001b[39m \u001b[38;5;28mself\u001b[39m\u001b[38;5;241m.\u001b[39mkernel \u001b[38;5;241m+\u001b[39m WhiteKernel(\n\u001b[0;32m    201\u001b[0m             noise_level\u001b[38;5;241m=\u001b[39m\u001b[38;5;28mself\u001b[39m\u001b[38;5;241m.\u001b[39mnoise, noise_level_bounds\u001b[38;5;241m=\u001b[39m\u001b[38;5;124m\"\u001b[39m\u001b[38;5;124mfixed\u001b[39m\u001b[38;5;124m\"\u001b[39m\n\u001b[0;32m    202\u001b[0m         )\n\u001b[1;32m--> 203\u001b[0m \u001b[38;5;28msuper\u001b[39m()\u001b[38;5;241m.\u001b[39mfit(X, y)\n\u001b[0;32m    205\u001b[0m \u001b[38;5;28mself\u001b[39m\u001b[38;5;241m.\u001b[39mnoise_ \u001b[38;5;241m=\u001b[39m \u001b[38;5;28;01mNone\u001b[39;00m\n\u001b[0;32m    207\u001b[0m \u001b[38;5;28;01mif\u001b[39;00m \u001b[38;5;28mself\u001b[39m\u001b[38;5;241m.\u001b[39mnoise:\n\u001b[0;32m    208\u001b[0m     \u001b[38;5;66;03m# The noise component of this kernel should be set to zero\u001b[39;00m\n\u001b[0;32m    209\u001b[0m     \u001b[38;5;66;03m# while estimating K(X_test, X_test)\u001b[39;00m\n\u001b[1;32m   (...)\u001b[0m\n\u001b[0;32m    214\u001b[0m     \u001b[38;5;66;03m# http://www.gaussianprocess.org/gpml/chapters/RW2.pdf\u001b[39;00m\n\u001b[0;32m    215\u001b[0m     \u001b[38;5;66;03m# Hence this hack\u001b[39;00m\n",
      "File \u001b[1;32mc:\\Users\\Toffe\\anaconda3\\Lib\\site-packages\\sklearn\\base.py:1151\u001b[0m, in \u001b[0;36m_fit_context.<locals>.decorator.<locals>.wrapper\u001b[1;34m(estimator, *args, **kwargs)\u001b[0m\n\u001b[0;32m   1144\u001b[0m     estimator\u001b[38;5;241m.\u001b[39m_validate_params()\n\u001b[0;32m   1146\u001b[0m \u001b[38;5;28;01mwith\u001b[39;00m config_context(\n\u001b[0;32m   1147\u001b[0m     skip_parameter_validation\u001b[38;5;241m=\u001b[39m(\n\u001b[0;32m   1148\u001b[0m         prefer_skip_nested_validation \u001b[38;5;129;01mor\u001b[39;00m global_skip_validation\n\u001b[0;32m   1149\u001b[0m     )\n\u001b[0;32m   1150\u001b[0m ):\n\u001b[1;32m-> 1151\u001b[0m     \u001b[38;5;28;01mreturn\u001b[39;00m fit_method(estimator, \u001b[38;5;241m*\u001b[39margs, \u001b[38;5;241m*\u001b[39m\u001b[38;5;241m*\u001b[39mkwargs)\n",
      "File \u001b[1;32mc:\\Users\\Toffe\\anaconda3\\Lib\\site-packages\\sklearn\\gaussian_process\\_gpr.py:303\u001b[0m, in \u001b[0;36mGaussianProcessRegressor.fit\u001b[1;34m(self, X, y)\u001b[0m\n\u001b[0;32m    298\u001b[0m         \u001b[38;5;28;01mreturn\u001b[39;00m \u001b[38;5;241m-\u001b[39m\u001b[38;5;28mself\u001b[39m\u001b[38;5;241m.\u001b[39mlog_marginal_likelihood(theta, clone_kernel\u001b[38;5;241m=\u001b[39m\u001b[38;5;28;01mFalse\u001b[39;00m)\n\u001b[0;32m    300\u001b[0m \u001b[38;5;66;03m# First optimize starting from theta specified in kernel\u001b[39;00m\n\u001b[0;32m    301\u001b[0m optima \u001b[38;5;241m=\u001b[39m [\n\u001b[0;32m    302\u001b[0m     (\n\u001b[1;32m--> 303\u001b[0m         \u001b[38;5;28mself\u001b[39m\u001b[38;5;241m.\u001b[39m_constrained_optimization(\n\u001b[0;32m    304\u001b[0m             obj_func, \u001b[38;5;28mself\u001b[39m\u001b[38;5;241m.\u001b[39mkernel_\u001b[38;5;241m.\u001b[39mtheta, \u001b[38;5;28mself\u001b[39m\u001b[38;5;241m.\u001b[39mkernel_\u001b[38;5;241m.\u001b[39mbounds\n\u001b[0;32m    305\u001b[0m         )\n\u001b[0;32m    306\u001b[0m     )\n\u001b[0;32m    307\u001b[0m ]\n\u001b[0;32m    309\u001b[0m \u001b[38;5;66;03m# Additional runs are performed from log-uniform chosen initial\u001b[39;00m\n\u001b[0;32m    310\u001b[0m \u001b[38;5;66;03m# theta\u001b[39;00m\n\u001b[0;32m    311\u001b[0m \u001b[38;5;28;01mif\u001b[39;00m \u001b[38;5;28mself\u001b[39m\u001b[38;5;241m.\u001b[39mn_restarts_optimizer \u001b[38;5;241m>\u001b[39m \u001b[38;5;241m0\u001b[39m:\n",
      "File \u001b[1;32mc:\\Users\\Toffe\\anaconda3\\Lib\\site-packages\\sklearn\\gaussian_process\\_gpr.py:652\u001b[0m, in \u001b[0;36mGaussianProcessRegressor._constrained_optimization\u001b[1;34m(self, obj_func, initial_theta, bounds)\u001b[0m\n\u001b[0;32m    650\u001b[0m \u001b[38;5;28;01mdef\u001b[39;00m \u001b[38;5;21m_constrained_optimization\u001b[39m(\u001b[38;5;28mself\u001b[39m, obj_func, initial_theta, bounds):\n\u001b[0;32m    651\u001b[0m     \u001b[38;5;28;01mif\u001b[39;00m \u001b[38;5;28mself\u001b[39m\u001b[38;5;241m.\u001b[39moptimizer \u001b[38;5;241m==\u001b[39m \u001b[38;5;124m\"\u001b[39m\u001b[38;5;124mfmin_l_bfgs_b\u001b[39m\u001b[38;5;124m\"\u001b[39m:\n\u001b[1;32m--> 652\u001b[0m         opt_res \u001b[38;5;241m=\u001b[39m scipy\u001b[38;5;241m.\u001b[39moptimize\u001b[38;5;241m.\u001b[39mminimize(\n\u001b[0;32m    653\u001b[0m             obj_func,\n\u001b[0;32m    654\u001b[0m             initial_theta,\n\u001b[0;32m    655\u001b[0m             method\u001b[38;5;241m=\u001b[39m\u001b[38;5;124m\"\u001b[39m\u001b[38;5;124mL-BFGS-B\u001b[39m\u001b[38;5;124m\"\u001b[39m,\n\u001b[0;32m    656\u001b[0m             jac\u001b[38;5;241m=\u001b[39m\u001b[38;5;28;01mTrue\u001b[39;00m,\n\u001b[0;32m    657\u001b[0m             bounds\u001b[38;5;241m=\u001b[39mbounds,\n\u001b[0;32m    658\u001b[0m         )\n\u001b[0;32m    659\u001b[0m         _check_optimize_result(\u001b[38;5;124m\"\u001b[39m\u001b[38;5;124mlbfgs\u001b[39m\u001b[38;5;124m\"\u001b[39m, opt_res)\n\u001b[0;32m    660\u001b[0m         theta_opt, func_min \u001b[38;5;241m=\u001b[39m opt_res\u001b[38;5;241m.\u001b[39mx, opt_res\u001b[38;5;241m.\u001b[39mfun\n",
      "File \u001b[1;32mc:\\Users\\Toffe\\anaconda3\\Lib\\site-packages\\scipy\\optimize\\_minimize.py:710\u001b[0m, in \u001b[0;36mminimize\u001b[1;34m(fun, x0, args, method, jac, hess, hessp, bounds, constraints, tol, callback, options)\u001b[0m\n\u001b[0;32m    707\u001b[0m     res \u001b[38;5;241m=\u001b[39m _minimize_newtoncg(fun, x0, args, jac, hess, hessp, callback,\n\u001b[0;32m    708\u001b[0m                              \u001b[38;5;241m*\u001b[39m\u001b[38;5;241m*\u001b[39moptions)\n\u001b[0;32m    709\u001b[0m \u001b[38;5;28;01melif\u001b[39;00m meth \u001b[38;5;241m==\u001b[39m \u001b[38;5;124m'\u001b[39m\u001b[38;5;124ml-bfgs-b\u001b[39m\u001b[38;5;124m'\u001b[39m:\n\u001b[1;32m--> 710\u001b[0m     res \u001b[38;5;241m=\u001b[39m _minimize_lbfgsb(fun, x0, args, jac, bounds,\n\u001b[0;32m    711\u001b[0m                            callback\u001b[38;5;241m=\u001b[39mcallback, \u001b[38;5;241m*\u001b[39m\u001b[38;5;241m*\u001b[39moptions)\n\u001b[0;32m    712\u001b[0m \u001b[38;5;28;01melif\u001b[39;00m meth \u001b[38;5;241m==\u001b[39m \u001b[38;5;124m'\u001b[39m\u001b[38;5;124mtnc\u001b[39m\u001b[38;5;124m'\u001b[39m:\n\u001b[0;32m    713\u001b[0m     res \u001b[38;5;241m=\u001b[39m _minimize_tnc(fun, x0, args, jac, bounds, callback\u001b[38;5;241m=\u001b[39mcallback,\n\u001b[0;32m    714\u001b[0m                         \u001b[38;5;241m*\u001b[39m\u001b[38;5;241m*\u001b[39moptions)\n",
      "File \u001b[1;32mc:\\Users\\Toffe\\anaconda3\\Lib\\site-packages\\scipy\\optimize\\_lbfgsb_py.py:361\u001b[0m, in \u001b[0;36m_minimize_lbfgsb\u001b[1;34m(fun, x0, args, jac, bounds, disp, maxcor, ftol, gtol, eps, maxfun, maxiter, iprint, callback, maxls, finite_diff_rel_step, **unknown_options)\u001b[0m\n\u001b[0;32m    355\u001b[0m task_str \u001b[38;5;241m=\u001b[39m task\u001b[38;5;241m.\u001b[39mtobytes()\n\u001b[0;32m    356\u001b[0m \u001b[38;5;28;01mif\u001b[39;00m task_str\u001b[38;5;241m.\u001b[39mstartswith(\u001b[38;5;124mb\u001b[39m\u001b[38;5;124m'\u001b[39m\u001b[38;5;124mFG\u001b[39m\u001b[38;5;124m'\u001b[39m):\n\u001b[0;32m    357\u001b[0m     \u001b[38;5;66;03m# The minimization routine wants f and g at the current x.\u001b[39;00m\n\u001b[0;32m    358\u001b[0m     \u001b[38;5;66;03m# Note that interruptions due to maxfun are postponed\u001b[39;00m\n\u001b[0;32m    359\u001b[0m     \u001b[38;5;66;03m# until the completion of the current minimization iteration.\u001b[39;00m\n\u001b[0;32m    360\u001b[0m     \u001b[38;5;66;03m# Overwrite f and g:\u001b[39;00m\n\u001b[1;32m--> 361\u001b[0m     f, g \u001b[38;5;241m=\u001b[39m func_and_grad(x)\n\u001b[0;32m    362\u001b[0m \u001b[38;5;28;01melif\u001b[39;00m task_str\u001b[38;5;241m.\u001b[39mstartswith(\u001b[38;5;124mb\u001b[39m\u001b[38;5;124m'\u001b[39m\u001b[38;5;124mNEW_X\u001b[39m\u001b[38;5;124m'\u001b[39m):\n\u001b[0;32m    363\u001b[0m     \u001b[38;5;66;03m# new iteration\u001b[39;00m\n\u001b[0;32m    364\u001b[0m     n_iterations \u001b[38;5;241m+\u001b[39m\u001b[38;5;241m=\u001b[39m \u001b[38;5;241m1\u001b[39m\n",
      "File \u001b[1;32mc:\\Users\\Toffe\\anaconda3\\Lib\\site-packages\\scipy\\optimize\\_differentiable_functions.py:285\u001b[0m, in \u001b[0;36mScalarFunction.fun_and_grad\u001b[1;34m(self, x)\u001b[0m\n\u001b[0;32m    283\u001b[0m \u001b[38;5;28;01mif\u001b[39;00m \u001b[38;5;129;01mnot\u001b[39;00m np\u001b[38;5;241m.\u001b[39marray_equal(x, \u001b[38;5;28mself\u001b[39m\u001b[38;5;241m.\u001b[39mx):\n\u001b[0;32m    284\u001b[0m     \u001b[38;5;28mself\u001b[39m\u001b[38;5;241m.\u001b[39m_update_x_impl(x)\n\u001b[1;32m--> 285\u001b[0m \u001b[38;5;28mself\u001b[39m\u001b[38;5;241m.\u001b[39m_update_fun()\n\u001b[0;32m    286\u001b[0m \u001b[38;5;28mself\u001b[39m\u001b[38;5;241m.\u001b[39m_update_grad()\n\u001b[0;32m    287\u001b[0m \u001b[38;5;28;01mreturn\u001b[39;00m \u001b[38;5;28mself\u001b[39m\u001b[38;5;241m.\u001b[39mf, \u001b[38;5;28mself\u001b[39m\u001b[38;5;241m.\u001b[39mg\n",
      "File \u001b[1;32mc:\\Users\\Toffe\\anaconda3\\Lib\\site-packages\\scipy\\optimize\\_differentiable_functions.py:251\u001b[0m, in \u001b[0;36mScalarFunction._update_fun\u001b[1;34m(self)\u001b[0m\n\u001b[0;32m    249\u001b[0m \u001b[38;5;28;01mdef\u001b[39;00m \u001b[38;5;21m_update_fun\u001b[39m(\u001b[38;5;28mself\u001b[39m):\n\u001b[0;32m    250\u001b[0m     \u001b[38;5;28;01mif\u001b[39;00m \u001b[38;5;129;01mnot\u001b[39;00m \u001b[38;5;28mself\u001b[39m\u001b[38;5;241m.\u001b[39mf_updated:\n\u001b[1;32m--> 251\u001b[0m         \u001b[38;5;28mself\u001b[39m\u001b[38;5;241m.\u001b[39m_update_fun_impl()\n\u001b[0;32m    252\u001b[0m         \u001b[38;5;28mself\u001b[39m\u001b[38;5;241m.\u001b[39mf_updated \u001b[38;5;241m=\u001b[39m \u001b[38;5;28;01mTrue\u001b[39;00m\n",
      "File \u001b[1;32mc:\\Users\\Toffe\\anaconda3\\Lib\\site-packages\\scipy\\optimize\\_differentiable_functions.py:155\u001b[0m, in \u001b[0;36mScalarFunction.__init__.<locals>.update_fun\u001b[1;34m()\u001b[0m\n\u001b[0;32m    154\u001b[0m \u001b[38;5;28;01mdef\u001b[39;00m \u001b[38;5;21mupdate_fun\u001b[39m():\n\u001b[1;32m--> 155\u001b[0m     \u001b[38;5;28mself\u001b[39m\u001b[38;5;241m.\u001b[39mf \u001b[38;5;241m=\u001b[39m fun_wrapped(\u001b[38;5;28mself\u001b[39m\u001b[38;5;241m.\u001b[39mx)\n",
      "File \u001b[1;32mc:\\Users\\Toffe\\anaconda3\\Lib\\site-packages\\scipy\\optimize\\_differentiable_functions.py:137\u001b[0m, in \u001b[0;36mScalarFunction.__init__.<locals>.fun_wrapped\u001b[1;34m(x)\u001b[0m\n\u001b[0;32m    133\u001b[0m \u001b[38;5;28mself\u001b[39m\u001b[38;5;241m.\u001b[39mnfev \u001b[38;5;241m+\u001b[39m\u001b[38;5;241m=\u001b[39m \u001b[38;5;241m1\u001b[39m\n\u001b[0;32m    134\u001b[0m \u001b[38;5;66;03m# Send a copy because the user may overwrite it.\u001b[39;00m\n\u001b[0;32m    135\u001b[0m \u001b[38;5;66;03m# Overwriting results in undefined behaviour because\u001b[39;00m\n\u001b[0;32m    136\u001b[0m \u001b[38;5;66;03m# fun(self.x) will change self.x, with the two no longer linked.\u001b[39;00m\n\u001b[1;32m--> 137\u001b[0m fx \u001b[38;5;241m=\u001b[39m fun(np\u001b[38;5;241m.\u001b[39mcopy(x), \u001b[38;5;241m*\u001b[39margs)\n\u001b[0;32m    138\u001b[0m \u001b[38;5;66;03m# Make sure the function returns a true scalar\u001b[39;00m\n\u001b[0;32m    139\u001b[0m \u001b[38;5;28;01mif\u001b[39;00m \u001b[38;5;129;01mnot\u001b[39;00m np\u001b[38;5;241m.\u001b[39misscalar(fx):\n",
      "File \u001b[1;32mc:\\Users\\Toffe\\anaconda3\\Lib\\site-packages\\scipy\\optimize\\_optimize.py:77\u001b[0m, in \u001b[0;36mMemoizeJac.__call__\u001b[1;34m(self, x, *args)\u001b[0m\n\u001b[0;32m     75\u001b[0m \u001b[38;5;28;01mdef\u001b[39;00m \u001b[38;5;21m__call__\u001b[39m(\u001b[38;5;28mself\u001b[39m, x, \u001b[38;5;241m*\u001b[39margs):\n\u001b[0;32m     76\u001b[0m \u001b[38;5;250m    \u001b[39m\u001b[38;5;124;03m\"\"\" returns the function value \"\"\"\u001b[39;00m\n\u001b[1;32m---> 77\u001b[0m     \u001b[38;5;28mself\u001b[39m\u001b[38;5;241m.\u001b[39m_compute_if_needed(x, \u001b[38;5;241m*\u001b[39margs)\n\u001b[0;32m     78\u001b[0m     \u001b[38;5;28;01mreturn\u001b[39;00m \u001b[38;5;28mself\u001b[39m\u001b[38;5;241m.\u001b[39m_value\n",
      "File \u001b[1;32mc:\\Users\\Toffe\\anaconda3\\Lib\\site-packages\\scipy\\optimize\\_optimize.py:71\u001b[0m, in \u001b[0;36mMemoizeJac._compute_if_needed\u001b[1;34m(self, x, *args)\u001b[0m\n\u001b[0;32m     69\u001b[0m \u001b[38;5;28;01mif\u001b[39;00m \u001b[38;5;129;01mnot\u001b[39;00m np\u001b[38;5;241m.\u001b[39mall(x \u001b[38;5;241m==\u001b[39m \u001b[38;5;28mself\u001b[39m\u001b[38;5;241m.\u001b[39mx) \u001b[38;5;129;01mor\u001b[39;00m \u001b[38;5;28mself\u001b[39m\u001b[38;5;241m.\u001b[39m_value \u001b[38;5;129;01mis\u001b[39;00m \u001b[38;5;28;01mNone\u001b[39;00m \u001b[38;5;129;01mor\u001b[39;00m \u001b[38;5;28mself\u001b[39m\u001b[38;5;241m.\u001b[39mjac \u001b[38;5;129;01mis\u001b[39;00m \u001b[38;5;28;01mNone\u001b[39;00m:\n\u001b[0;32m     70\u001b[0m     \u001b[38;5;28mself\u001b[39m\u001b[38;5;241m.\u001b[39mx \u001b[38;5;241m=\u001b[39m np\u001b[38;5;241m.\u001b[39masarray(x)\u001b[38;5;241m.\u001b[39mcopy()\n\u001b[1;32m---> 71\u001b[0m     fg \u001b[38;5;241m=\u001b[39m \u001b[38;5;28mself\u001b[39m\u001b[38;5;241m.\u001b[39mfun(x, \u001b[38;5;241m*\u001b[39margs)\n\u001b[0;32m     72\u001b[0m     \u001b[38;5;28mself\u001b[39m\u001b[38;5;241m.\u001b[39mjac \u001b[38;5;241m=\u001b[39m fg[\u001b[38;5;241m1\u001b[39m]\n\u001b[0;32m     73\u001b[0m     \u001b[38;5;28mself\u001b[39m\u001b[38;5;241m.\u001b[39m_value \u001b[38;5;241m=\u001b[39m fg[\u001b[38;5;241m0\u001b[39m]\n",
      "File \u001b[1;32mc:\\Users\\Toffe\\anaconda3\\Lib\\site-packages\\sklearn\\gaussian_process\\_gpr.py:293\u001b[0m, in \u001b[0;36mGaussianProcessRegressor.fit.<locals>.obj_func\u001b[1;34m(theta, eval_gradient)\u001b[0m\n\u001b[0;32m    291\u001b[0m \u001b[38;5;28;01mdef\u001b[39;00m \u001b[38;5;21mobj_func\u001b[39m(theta, eval_gradient\u001b[38;5;241m=\u001b[39m\u001b[38;5;28;01mTrue\u001b[39;00m):\n\u001b[0;32m    292\u001b[0m     \u001b[38;5;28;01mif\u001b[39;00m eval_gradient:\n\u001b[1;32m--> 293\u001b[0m         lml, grad \u001b[38;5;241m=\u001b[39m \u001b[38;5;28mself\u001b[39m\u001b[38;5;241m.\u001b[39mlog_marginal_likelihood(\n\u001b[0;32m    294\u001b[0m             theta, eval_gradient\u001b[38;5;241m=\u001b[39m\u001b[38;5;28;01mTrue\u001b[39;00m, clone_kernel\u001b[38;5;241m=\u001b[39m\u001b[38;5;28;01mFalse\u001b[39;00m\n\u001b[0;32m    295\u001b[0m         )\n\u001b[0;32m    296\u001b[0m         \u001b[38;5;28;01mreturn\u001b[39;00m \u001b[38;5;241m-\u001b[39mlml, \u001b[38;5;241m-\u001b[39mgrad\n\u001b[0;32m    297\u001b[0m     \u001b[38;5;28;01melse\u001b[39;00m:\n",
      "File \u001b[1;32mc:\\Users\\Toffe\\anaconda3\\Lib\\site-packages\\sklearn\\gaussian_process\\_gpr.py:573\u001b[0m, in \u001b[0;36mGaussianProcessRegressor.log_marginal_likelihood\u001b[1;34m(self, theta, eval_gradient, clone_kernel)\u001b[0m\n\u001b[0;32m    571\u001b[0m \u001b[38;5;28;01melse\u001b[39;00m:\n\u001b[0;32m    572\u001b[0m     kernel \u001b[38;5;241m=\u001b[39m \u001b[38;5;28mself\u001b[39m\u001b[38;5;241m.\u001b[39mkernel_\n\u001b[1;32m--> 573\u001b[0m     kernel\u001b[38;5;241m.\u001b[39mtheta \u001b[38;5;241m=\u001b[39m theta\n\u001b[0;32m    575\u001b[0m \u001b[38;5;28;01mif\u001b[39;00m eval_gradient:\n\u001b[0;32m    576\u001b[0m     K, K_gradient \u001b[38;5;241m=\u001b[39m kernel(\u001b[38;5;28mself\u001b[39m\u001b[38;5;241m.\u001b[39mX_train_, eval_gradient\u001b[38;5;241m=\u001b[39m\u001b[38;5;28;01mTrue\u001b[39;00m)\n",
      "File \u001b[1;32mc:\\Users\\Toffe\\anaconda3\\Lib\\site-packages\\sklearn\\gaussian_process\\kernels.py:737\u001b[0m, in \u001b[0;36mKernelOperator.theta\u001b[1;34m(self, theta)\u001b[0m\n\u001b[0;32m    728\u001b[0m \u001b[38;5;129m@theta\u001b[39m\u001b[38;5;241m.\u001b[39msetter\n\u001b[0;32m    729\u001b[0m \u001b[38;5;28;01mdef\u001b[39;00m \u001b[38;5;21mtheta\u001b[39m(\u001b[38;5;28mself\u001b[39m, theta):\n\u001b[0;32m    730\u001b[0m \u001b[38;5;250m    \u001b[39m\u001b[38;5;124;03m\"\"\"Sets the (flattened, log-transformed) non-fixed hyperparameters.\u001b[39;00m\n\u001b[0;32m    731\u001b[0m \n\u001b[0;32m    732\u001b[0m \u001b[38;5;124;03m    Parameters\u001b[39;00m\n\u001b[1;32m   (...)\u001b[0m\n\u001b[0;32m    735\u001b[0m \u001b[38;5;124;03m        The non-fixed, log-transformed hyperparameters of the kernel\u001b[39;00m\n\u001b[0;32m    736\u001b[0m \u001b[38;5;124;03m    \"\"\"\u001b[39;00m\n\u001b[1;32m--> 737\u001b[0m     k1_dims \u001b[38;5;241m=\u001b[39m \u001b[38;5;28mself\u001b[39m\u001b[38;5;241m.\u001b[39mk1\u001b[38;5;241m.\u001b[39mn_dims\n\u001b[0;32m    738\u001b[0m     \u001b[38;5;28mself\u001b[39m\u001b[38;5;241m.\u001b[39mk1\u001b[38;5;241m.\u001b[39mtheta \u001b[38;5;241m=\u001b[39m theta[:k1_dims]\n\u001b[0;32m    739\u001b[0m     \u001b[38;5;28mself\u001b[39m\u001b[38;5;241m.\u001b[39mk2\u001b[38;5;241m.\u001b[39mtheta \u001b[38;5;241m=\u001b[39m theta[k1_dims:]\n",
      "File \u001b[1;32mc:\\Users\\Toffe\\anaconda3\\Lib\\site-packages\\sklearn\\gaussian_process\\kernels.py:252\u001b[0m, in \u001b[0;36mKernel.n_dims\u001b[1;34m(self)\u001b[0m\n\u001b[0;32m    249\u001b[0m \u001b[38;5;129m@property\u001b[39m\n\u001b[0;32m    250\u001b[0m \u001b[38;5;28;01mdef\u001b[39;00m \u001b[38;5;21mn_dims\u001b[39m(\u001b[38;5;28mself\u001b[39m):\n\u001b[0;32m    251\u001b[0m \u001b[38;5;250m    \u001b[39m\u001b[38;5;124;03m\"\"\"Returns the number of non-fixed hyperparameters of the kernel.\"\"\"\u001b[39;00m\n\u001b[1;32m--> 252\u001b[0m     \u001b[38;5;28;01mreturn\u001b[39;00m \u001b[38;5;28mself\u001b[39m\u001b[38;5;241m.\u001b[39mtheta\u001b[38;5;241m.\u001b[39mshape[\u001b[38;5;241m0\u001b[39m]\n",
      "File \u001b[1;32mc:\\Users\\Toffe\\anaconda3\\Lib\\site-packages\\sklearn\\gaussian_process\\kernels.py:726\u001b[0m, in \u001b[0;36mKernelOperator.theta\u001b[1;34m(self)\u001b[0m\n\u001b[0;32m    712\u001b[0m \u001b[38;5;129m@property\u001b[39m\n\u001b[0;32m    713\u001b[0m \u001b[38;5;28;01mdef\u001b[39;00m \u001b[38;5;21mtheta\u001b[39m(\u001b[38;5;28mself\u001b[39m):\n\u001b[0;32m    714\u001b[0m \u001b[38;5;250m    \u001b[39m\u001b[38;5;124;03m\"\"\"Returns the (flattened, log-transformed) non-fixed hyperparameters.\u001b[39;00m\n\u001b[0;32m    715\u001b[0m \n\u001b[0;32m    716\u001b[0m \u001b[38;5;124;03m    Note that theta are typically the log-transformed values of the\u001b[39;00m\n\u001b[1;32m   (...)\u001b[0m\n\u001b[0;32m    724\u001b[0m \u001b[38;5;124;03m        The non-fixed, log-transformed hyperparameters of the kernel\u001b[39;00m\n\u001b[0;32m    725\u001b[0m \u001b[38;5;124;03m    \"\"\"\u001b[39;00m\n\u001b[1;32m--> 726\u001b[0m     \u001b[38;5;28;01mreturn\u001b[39;00m np\u001b[38;5;241m.\u001b[39mappend(\u001b[38;5;28mself\u001b[39m\u001b[38;5;241m.\u001b[39mk1\u001b[38;5;241m.\u001b[39mtheta, \u001b[38;5;28mself\u001b[39m\u001b[38;5;241m.\u001b[39mk2\u001b[38;5;241m.\u001b[39mtheta)\n",
      "File \u001b[1;32mc:\\Users\\Toffe\\anaconda3\\Lib\\site-packages\\sklearn\\gaussian_process\\kernels.py:284\u001b[0m, in \u001b[0;36mKernel.theta\u001b[1;34m(self)\u001b[0m\n\u001b[0;32m    282\u001b[0m         theta\u001b[38;5;241m.\u001b[39mappend(params[hyperparameter\u001b[38;5;241m.\u001b[39mname])\n\u001b[0;32m    283\u001b[0m \u001b[38;5;28;01mif\u001b[39;00m \u001b[38;5;28mlen\u001b[39m(theta) \u001b[38;5;241m>\u001b[39m \u001b[38;5;241m0\u001b[39m:\n\u001b[1;32m--> 284\u001b[0m     \u001b[38;5;28;01mreturn\u001b[39;00m np\u001b[38;5;241m.\u001b[39mlog(np\u001b[38;5;241m.\u001b[39mhstack(theta))\n\u001b[0;32m    285\u001b[0m \u001b[38;5;28;01melse\u001b[39;00m:\n\u001b[0;32m    286\u001b[0m     \u001b[38;5;28;01mreturn\u001b[39;00m np\u001b[38;5;241m.\u001b[39marray([])\n",
      "File \u001b[1;32m<__array_function__ internals>:200\u001b[0m, in \u001b[0;36mhstack\u001b[1;34m(*args, **kwargs)\u001b[0m\n",
      "File \u001b[1;32mc:\\Users\\Toffe\\anaconda3\\Lib\\site-packages\\numpy\\core\\shape_base.py:368\u001b[0m, in \u001b[0;36mhstack\u001b[1;34m(tup, dtype, casting)\u001b[0m\n\u001b[0;32m    366\u001b[0m \u001b[38;5;66;03m# As a special case, dimension 0 of 1-dimensional arrays is \"horizontal\"\u001b[39;00m\n\u001b[0;32m    367\u001b[0m \u001b[38;5;28;01mif\u001b[39;00m arrs \u001b[38;5;129;01mand\u001b[39;00m arrs[\u001b[38;5;241m0\u001b[39m]\u001b[38;5;241m.\u001b[39mndim \u001b[38;5;241m==\u001b[39m \u001b[38;5;241m1\u001b[39m:\n\u001b[1;32m--> 368\u001b[0m     \u001b[38;5;28;01mreturn\u001b[39;00m _nx\u001b[38;5;241m.\u001b[39mconcatenate(arrs, \u001b[38;5;241m0\u001b[39m, dtype\u001b[38;5;241m=\u001b[39mdtype, casting\u001b[38;5;241m=\u001b[39mcasting)\n\u001b[0;32m    369\u001b[0m \u001b[38;5;28;01melse\u001b[39;00m:\n\u001b[0;32m    370\u001b[0m     \u001b[38;5;28;01mreturn\u001b[39;00m _nx\u001b[38;5;241m.\u001b[39mconcatenate(arrs, \u001b[38;5;241m1\u001b[39m, dtype\u001b[38;5;241m=\u001b[39mdtype, casting\u001b[38;5;241m=\u001b[39mcasting)\n",
      "File \u001b[1;32m<__array_function__ internals>:200\u001b[0m, in \u001b[0;36mconcatenate\u001b[1;34m(*args, **kwargs)\u001b[0m\n",
      "\u001b[1;31mKeyboardInterrupt\u001b[0m: "
     ]
    }
   ],
   "source": [
    "#Run Pipeline\n",
    "all_models, votes, y_true = pipeline(df_union, y, params, tmt_set)"
   ]
  },
  {
   "cell_type": "markdown",
   "metadata": {},
   "source": [
    "## Results"
   ]
  },
  {
   "cell_type": "code",
   "execution_count": 168,
   "metadata": {},
   "outputs": [],
   "source": [
    "#Combining K-fold results.\n",
    "hard_votes = [item for sublist in [value for key, value in votes.items() if key.startswith('Hard')] for item in sublist]\n",
    "soft_votes = [item for sublist in [value for key, value in votes.items() if key.startswith('Soft')] for item in sublist]\n",
    "xgb_votes = [item for sublist in [value.prediction for key, value in all_models.items() if key.startswith('XGB')] for item in sublist]\n",
    "lr_votes = [item for sublist in [value.prediction for key, value in all_models.items() if key.startswith('LR')] for item in sublist]\n",
    "rf_votes = [item for sublist in [value.prediction for key, value in all_models.items() if key.startswith('RF')] for item in sublist]\n",
    "xgb_prob = [item for sublist in [value.probability for key, value in all_models.items() if key.startswith('XGB')] for item in sublist]\n",
    "lr_prob = [item for sublist in [value.probability for key, value in all_models.items() if key.startswith('LR')] for item in sublist]\n",
    "rf_prob = [item for sublist in [value.probability for key, value in all_models.items() if key.startswith('RF')] for item in sublist]\n",
    "y_trues = [item for sublist in [list(series) for series in y_true.values()] for item in sublist]"
   ]
  },
  {
   "cell_type": "markdown",
   "metadata": {},
   "source": [
    "### Confusion Matrix (Average across all runs)"
   ]
  },
  {
   "cell_type": "code",
   "execution_count": 169,
   "metadata": {},
   "outputs": [
    {
     "data": {
      "image/png": "[encoded data removed]",
      "text/plain": [
       "<Figure size 1200x600 with 2 Axes>"
      ]
     },
     "metadata": {},
     "output_type": "display_data"
    }
   ],
   "source": [
    "#Confusion Matrix (HARD VOTE).\n",
    "plot_soft_vote_confusion_matrix(y_trues, hard_votes, title=\"Hard Vote - Confusion matrix\")"
   ]
  },
  {
   "cell_type": "code",
   "execution_count": 170,
   "metadata": {},
   "outputs": [
    {
     "data": {
      "image/png": "[encoded data removed]",
      "text/plain": [
       "<Figure size 1200x600 with 2 Axes>"
      ]
     },
     "metadata": {},
     "output_type": "display_data"
    }
   ],
   "source": [
    "#Confusion Matrix (SOFT VOTE).\n",
    "plot_soft_vote_confusion_matrix(y_trues, soft_votes, title=\"Soft Vote - Confusion matrix\")"
   ]
  },
  {
   "cell_type": "markdown",
   "metadata": {},
   "source": [
    "### Accuracy (Average across all runs)"
   ]
  },
  {
   "cell_type": "code",
   "execution_count": 171,
   "metadata": {},
   "outputs": [
    {
     "data": {
      "image/png": "[encoded data removed]",
      "text/plain": [
       "<Figure size 800x600 with 1 Axes>"
      ]
     },
     "metadata": {},
     "output_type": "display_data"
    }
   ],
   "source": [
    "# Example usage:\n",
    "percentiles = [accuracy_score(y_trues, hard_votes),\n",
    "                accuracy_score(y_trues, soft_votes),\n",
    "                accuracy_score(y_trues, xgb_votes),\n",
    "                accuracy_score(y_trues, lr_votes),\n",
    "                accuracy_score(y_trues, rf_votes)]\n",
    "labels = [\"Hard Vote\", \"Soft Vote\", \"XGB\", \"LR\", \"RF\"]\n",
    "plot_percentiles(percentiles, labels, \"Accuracy on validation data in K-fold.\")"
   ]
  },
  {
   "cell_type": "markdown",
   "metadata": {},
   "source": [
    "### Feature Importance (Average across all runs)"
   ]
  },
  {
   "cell_type": "code",
   "execution_count": 172,
   "metadata": {},
   "outputs": [],
   "source": [
    "RF_avg_feature_importance = get_average_feature_importance(all_models, \"RF\", df_main)\n",
    "XGB_avg_feature_importance = get_average_feature_importance(all_models, \"XGB\", df_main)\n",
    "LR_avg_feature_importance = get_average_feature_importance(all_models, \"LR\", df_main)"
   ]
  },
  {
   "cell_type": "code",
   "execution_count": 173,
   "metadata": {},
   "outputs": [
    {
     "data": {
      "image/png": "[encoded data removed]",
      "text/plain": [
       "<Figure size 1000x500 with 1 Axes>"
      ]
     },
     "metadata": {},
     "output_type": "display_data"
    }
   ],
   "source": [
    "plot_feature_importance(LR_avg_feature_importance, XGB_avg_feature_importance, RF_avg_feature_importance, models=[\"LR\", \"XGB\", \"RF\"], main_model=\"LogisticRegression\", colours = [\"r\", \"b\", \"g\"])"
   ]
  },
  {
   "cell_type": "code",
   "execution_count": 174,
   "metadata": {},
   "outputs": [
    {
     "data": {
      "image/png": "[encoded data removed]",
      "text/plain": [
       "<Figure size 1000x500 with 1 Axes>"
      ]
     },
     "metadata": {},
     "output_type": "display_data"
    }
   ],
   "source": [
    "plot_feature_importance(XGB_avg_feature_importance, RF_avg_feature_importance, LR_avg_feature_importance, models=[\"XGB\", \"RF\", \"LR\"], main_model=\"XGBoost\", colours = [\"b\", \"g\", \"r\"])"
   ]
  },
  {
   "cell_type": "code",
   "execution_count": 175,
   "metadata": {},
   "outputs": [
    {
     "data": {
      "image/png": "[encoded data removed]",
      "text/plain": [
       "<Figure size 1000x500 with 1 Axes>"
      ]
     },
     "metadata": {},
     "output_type": "display_data"
    }
   ],
   "source": [
    "plot_feature_importance(RF_avg_feature_importance, LR_avg_feature_importance, XGB_avg_feature_importance, models=[\"RF\", \"LR\", \"XGB\"], main_model=\"RandomForest\", colours = [\"g\", \"r\", \"b\"])"
   ]
  },
  {
   "cell_type": "code",
   "execution_count": 176,
   "metadata": {},
   "outputs": [
    {
     "name": "stdout",
     "output_type": "stream",
     "text": [
      "XGB\t\tAUC OVR: 0.850737008024374 \t\tAUC OVO: 0.8458034433285508 \t\tACC: 0.6823529411764706 \t\tF1: 0.6743868970909515\n",
      "LR \t\tAUC OVR: 0.875592336565077 \t\tAUC OVO: 0.8717120994739359 \t\tACC: 0.7058823529411765 \t\tF1: 0.7139141972578505\n",
      "RF \t\tAUC OVR: 0.8361570579625267 \t\tAUC OVO: 0.8426590148254424 \t\tACC: 0.6941176470588235 \t\tF1: 0.6890522875816993\n",
      "Soft Vote\t\t\t\t\t\t\t\t\t\t\tACC: 0.7294117647058823 \t\tF1: 0.730420168067227\n",
      "Hard Vote\t\t\t\t\t\t\t\t\t\t\tACC: 0.6941176470588235 \t\tF1: 0.6908890463816049\n"
     ]
    }
   ],
   "source": [
    "print(f\"XGB\\t\\tAUC OVR: {roc_auc_score(y_trues, xgb_prob, multi_class='ovr')} \\t\\tAUC OVO: {roc_auc_score(y_trues, xgb_prob, multi_class='ovo')} \\t\\tACC: {accuracy_score(y_trues, xgb_votes)} \\t\\tF1: {f1_score(y_trues, xgb_votes, average='weighted')}\")\n",
    "print(f\"LR \\t\\tAUC OVR: {roc_auc_score(y_trues, lr_prob, multi_class='ovr')} \\t\\tAUC OVO: {roc_auc_score(y_trues, lr_prob, multi_class='ovo')} \\t\\tACC: {accuracy_score(y_trues, lr_votes)} \\t\\tF1: {f1_score(y_trues, lr_votes, average='weighted')}\")\n",
    "print(f\"RF \\t\\tAUC OVR: {roc_auc_score(y_trues, rf_prob, multi_class='ovr')} \\t\\tAUC OVO: {roc_auc_score(y_trues, rf_prob, multi_class='ovo')} \\t\\tACC: {accuracy_score(y_trues, rf_votes)} \\t\\tF1: {f1_score(y_trues, rf_votes, average='weighted')}\")\n",
    "print(f\"Soft Vote\\t\\t\\t\\t\\t\\t\\t\\t\\t\\t\\tACC: {accuracy_score(y_trues, soft_votes)} \\t\\tF1: {f1_score(y_trues, soft_votes, average='weighted')}\")\n",
    "print(f\"Hard Vote\\t\\t\\t\\t\\t\\t\\t\\t\\t\\t\\tACC: {accuracy_score(y_trues, hard_votes)} \\t\\tF1: {f1_score(y_trues, hard_votes, average='weighted')}\")"
   ]
  },
  {
   "cell_type": "markdown",
   "metadata": {},
   "source": [
    "# Current Test Ideas"
   ]
  },
  {
   "cell_type": "markdown",
   "metadata": {},
   "source": [
    "## Recursive Feature Extraction"
   ]
  },
  {
   "cell_type": "markdown",
   "metadata": {},
   "source": [
    "We will add Stabl here in the future."
   ]
  },
  {
   "cell_type": "code",
   "execution_count": 30,
   "metadata": {},
   "outputs": [],
   "source": [
    "#Models based on GridSearchCV performance on prediciton.\n",
    "lasso = Lasso(alpha=0.001, max_iter=5000)\n",
    "lr = LogisticRegression(penalty='l1', solver=\"saga\", multi_class=\"multinomial\", max_iter=2000, C=0.18)\n",
    "rf = RandomForestClassifier(n_estimators=200, criterion='gini', max_depth=10, max_features='sqrt', min_samples_leaf=2)\n",
    "xgb = XGBClassifier(eta=0.2, gamma=0.1, n_estimators=150, reg_alpha=0.5, reg_lambda=0.6, min_child_weight=0.45, subsample=0.55)"
   ]
  },
  {
   "cell_type": "code",
   "execution_count": 31,
   "metadata": {},
   "outputs": [],
   "source": [
    "n_features_p1 = 100\n",
    "step_p1 = 10\n",
    "\n",
    "#LASSO\n",
    "rfe_lasso = RFE(lasso, n_features_to_select=n_features_p1, step=step_p1)\n",
    "_ = rfe_lasso.fit_transform(df_main, y=y)\n",
    "\n",
    "#LR\n",
    "rfe_lr = RFE(lr, n_features_to_select=n_features_p1, step=step_p1)\n",
    "_ = rfe_lr.fit_transform(df_main, y=y)\n",
    "\n",
    "#RF\n",
    "rfe_rf = RFE(rf, n_features_to_select=n_features_p1, step=step_p1)\n",
    "_ = rfe_rf.fit_transform(df_main, y=y)\n",
    "\n",
    "#XGB\n",
    "rfe_xgb = RFE(xgb, n_features_to_select=n_features_p1, step=step_p1)\n",
    "_ = rfe_xgb.fit_transform(df_main, y=y)"
   ]
  },
  {
   "cell_type": "code",
   "execution_count": 32,
   "metadata": {},
   "outputs": [],
   "source": [
    "#Feature Names.\n",
    "lasso_cont = rfe_lasso.get_feature_names_out()\n",
    "lr_cont = rfe_lr.get_feature_names_out()\n",
    "rf_cont = rfe_rf.get_feature_names_out()\n",
    "xgb_cont = rfe_xgb.get_feature_names_out()\n",
    "\n",
    "#Dataframes based on extracted features.\n",
    "df_lasso_cont = df_main[lasso_cont]\n",
    "df_lr_cont = df_main[lr_cont]\n",
    "df_rf_cont = df_main[rf_cont]\n",
    "df_xgb_cont = df_main[xgb_cont]"
   ]
  },
  {
   "cell_type": "code",
   "execution_count": 33,
   "metadata": {},
   "outputs": [],
   "source": [
    "n_features_p2 = 10\n",
    "step_p2 = 1\n",
    "\n",
    "#LASSO\n",
    "rfe_lasso_p2 = RFE(lasso, n_features_to_select=n_features_p2, step=step_p2)\n",
    "_ = rfe_lasso_p2.fit_transform(df_lasso_cont, y=y)\n",
    "\n",
    "#LR\n",
    "rfe_lr_p2 = RFE(lr, n_features_to_select=n_features_p2, step=step_p2)\n",
    "_ = rfe_lr_p2.fit_transform(df_lr_cont, y=y)\n",
    "\n",
    "#RF\n",
    "rfe_rf_p2 = RFE(rf, n_features_to_select=n_features_p2, step=step_p2)\n",
    "_ = rfe_rf_p2.fit_transform(df_rf_cont, y=y)\n",
    "\n",
    "#XGB\n",
    "rfe_xgb_p2 = RFE(xgb, n_features_to_select=n_features_p2, step=step_p2)\n",
    "_ = rfe_xgb_p2.fit_transform(df_xgb_cont, y=y)"
   ]
  },
  {
   "cell_type": "code",
   "execution_count": 34,
   "metadata": {},
   "outputs": [
    {
     "data": {
      "text/plain": [
       "36"
      ]
     },
     "execution_count": 34,
     "metadata": {},
     "output_type": "execute_result"
    }
   ],
   "source": [
    "#Number of features in current dataset.\n",
    "set_lasso_p2 = set(rfe_lasso_p2.get_feature_names_out())\n",
    "set_lr_p2 = set(rfe_lr_p2.get_feature_names_out())\n",
    "set_rf_p2 = set(rfe_rf_p2.get_feature_names_out())\n",
    "set_xgb_p2 = set(rfe_xgb_p2.get_feature_names_out())\n",
    "\n",
    "len(set_lasso_p2.union(set_lr_p2, set_rf_p2, set_xgb_p2))"
   ]
  },
  {
   "cell_type": "code",
   "execution_count": 35,
   "metadata": {},
   "outputs": [],
   "source": [
    "#Dataset after feature extraction.\n",
    "set_union = set_lasso_p2.union(set_lr_p2, set_rf_p2, set_xgb_p2)\n",
    "list_union = list(set_union)\n",
    "df_union = df_main[list_union]"
   ]
  },
  {
   "cell_type": "markdown",
   "metadata": {},
   "source": [
    "# Old Code (DO NOT RUN)"
   ]
  },
  {
   "cell_type": "markdown",
   "metadata": {},
   "source": [
    "## Peptide Feature Extraction (500, LASSO)"
   ]
  },
  {
   "cell_type": "code",
   "execution_count": null,
   "metadata": {},
   "outputs": [],
   "source": [
    "#Peptide Dataset\n",
    "#df_peptides_all = pd.read_csv(\"./Data/data files/iNPH_data_peptide_median.csv\")\n",
    "#df_peptides = df_peptides_all.iloc[:, 12:]\n",
    "#df_peptides_zero = df_peptides.replace([np.nan, np.NaN], 0)\n",
    "#\n",
    "#df_peptides_lumbar = df_peptides_zero[df_peptides_all[\"CSF_type\"] == \"L\"]\n",
    "#df_peptides_ventricular = df_peptides_zero[df_peptides_all[\"CSF_type\"] == \"V\"]\n",
    "#\n",
    "#y_lumbar = df_peptides_all[df_peptides_all[\"CSF_type\"] == \"L\"][\"Cortical_biopsy_grouping\"]\n",
    "#y_ventricular = df_peptides_all[df_peptides_all[\"CSF_type\"] == \"V\"][\"Cortical_biopsy_grouping\"]\n",
    "#\n",
    "#Lumbar\n",
    "#lasso_lumbar = Lasso(alpha=0.18, max_iter=5000)\n",
    "#rfe_lumbar = RFE(lasso_lumbar, n_features_to_select=500, step=10)\n",
    "#rfe_lumbar.fit(df_peptides_lumbar, y_lumbar)\n",
    "#\n",
    "#lumbar_features = df_peptides_lumbar.columns[rfe_lumbar.support_]\n",
    "#df_peptides_lumbar_top500lasso = df_peptides[df_peptides_all[\"CSF_type\"] == \"L\"][lumbar_features]\n",
    "#df_peptides_lumbar_top500lasso.to_csv(\"peptide_lumbar_top500_lasso.csv\", index=False)\n",
    "#\n",
    "#Ventricular\n",
    "#lasso_ventricular = Lasso(alpha=0.18, max_iter=5000)\n",
    "#rfe_ventricular = RFE(lasso_ventricular, n_features_to_select=500, step=10)\n",
    "#rfe_ventricular.fit(df_peptides_ventricular, y_ventricular)\n",
    "#\n",
    "#ventricular_features = df_peptides_ventricular.columns[rfe_ventricular.support_]\n",
    "#df_peptides_ventricular_top500lasso = df_peptides[df_peptides_all[\"CSF_type\"] == \"V\"][ventricular_features]\n",
    "#df_peptides_ventricular_top500lasso.to_csv(\"peptide_ventricular_top500_lasso.csv\", index=False)"
   ]
  },
  {
   "cell_type": "markdown",
   "metadata": {},
   "source": [
    "# For Meeting"
   ]
  },
  {
   "cell_type": "markdown",
   "metadata": {},
   "source": [
    "## BayesSearchCV VS GridSearchCV"
   ]
  },
  {
   "cell_type": "markdown",
   "metadata": {},
   "source": [
    "Both run on the same settings (~35 features) with GridSearchCV having a smaller hyperparameter range (but more fine-tuned), and BayesSearchCV a more *standard* hyperparameter search space. Both ran with ComBat, reduced feature space..."
   ]
  },
  {
   "cell_type": "markdown",
   "metadata": {},
   "source": [
    "### BayesSearchCV"
   ]
  },
  {
   "cell_type": "code",
   "execution_count": 99,
   "metadata": {},
   "outputs": [],
   "source": [
    "#More correct?\n",
    "xgboost_params = {\"eta\": [0.05, 0.1, 0.15, 0.2, 0.25, 0.3, 0.35, 0.4, 0.45, 0.5],\n",
    "                  \"max_depth\": [2,4,6,8,10],\n",
    "                  \"n_estimators\": [100, 200, 300, 400, 500]}\n",
    "lr_params = {\"penalty\": [\"elasticnet\"],\n",
    "              \"C\": [0.0001, 0.001, 0.01, 0.1, 1, 10, 100],\n",
    "              \"solver\": [\"saga\"],\n",
    "              \"multi_class\": [\"multinomial\"],\n",
    "              \"max_iter\": [4000, 8000, 12000],\n",
    "              \"tol\": [1e-2, 1e-3, 1e-4],\n",
    "              \"n_jobs\": [-1],\n",
    "              \"l1_ratio\": [0,0.1,0.2,0.3,0.4,0.5,0.6,0.7,0.8,0.9,1]}\n",
    "rf_params = {\"n_estimators\": [100, 200, 300, 400, 500],\n",
    "             \"criterion\": [\"gini\", \"entropy\", \"log_loss\"],\n",
    "             \"max_depth\": [5, 10, 20, 30, 40],\n",
    "             \"max_features\": [\"sqrt\", \"log2\"],\n",
    "             \"n_jobs\": [-1],\n",
    "             \"min_samples_leaf\": [1,2,3,4,5]}\n",
    "\n",
    "params = [xgboost_params, lr_params, rf_params]"
   ]
  },
  {
   "cell_type": "code",
   "execution_count": 49,
   "metadata": {},
   "outputs": [
    {
     "name": "stdout",
     "output_type": "stream",
     "text": [
      "\n",
      "-------------- Starting K-fold cross validation: --------------\n",
      "\n",
      "\u001b[94mK-Fold validation: Iteration 0.\n",
      "\u001b[97mXGB 0 started.\n",
      "XGB 0 is done in 133.75857019424438 seconds.\n",
      "\n",
      "\u001b[97mLR 0 started.\n",
      "LR 0 is done in 121.57840919494629 seconds.\n",
      "\n",
      "\u001b[97mRF 0 started.\n",
      "RF 0 is done in 173.10991859436035 seconds.\n",
      "\n",
      "\u001b[92mHard vote F1 score: 0.6296296296296295\n",
      "\u001b[92mSoft vote F1 score: 0.6296296296296295\n",
      "\n",
      "\u001b[94mK-Fold validation: Iteration 1.\n",
      "\u001b[97mXGB 1 started.\n",
      "XGB 1 is done in 132.25061702728271 seconds.\n",
      "\n",
      "\u001b[97mLR 1 started.\n",
      "LR 1 is done in 131.29112696647644 seconds.\n",
      "\n",
      "\u001b[97mRF 1 started.\n",
      "RF 1 is done in 134.75252056121826 seconds.\n",
      "\n",
      "\u001b[92mHard vote F1 score: 0.6296296296296295\n",
      "\u001b[92mSoft vote F1 score: 0.6296296296296295\n",
      "\n",
      "\u001b[94mK-Fold validation: Iteration 2.\n",
      "\u001b[97mXGB 2 started.\n",
      "XGB 2 is done in 127.84838724136353 seconds.\n",
      "\n",
      "\u001b[97mLR 2 started.\n",
      "LR 2 is done in 167.64478421211243 seconds.\n",
      "\n",
      "\u001b[97mRF 2 started.\n"
     ]
    },
    {
     "name": "stderr",
     "output_type": "stream",
     "text": [
      "c:\\Users\\Toffe\\anaconda3\\Lib\\site-packages\\skopt\\optimizer\\optimizer.py:517: UserWarning: The objective has been evaluated at point ['gini', 40, 'log2', 1, 500, -1] before, using random point ['gini', 20, 'log2', 2, 200, -1]\n",
      "  warnings.warn(\n"
     ]
    },
    {
     "name": "stdout",
     "output_type": "stream",
     "text": [
      "RF 2 is done in 225.31157660484314 seconds.\n",
      "\n",
      "\u001b[92mHard vote F1 score: 0.7283950617283951\n",
      "\u001b[92mSoft vote F1 score: 0.7883597883597884\n",
      "\n",
      "\u001b[94mK-Fold validation: Iteration 3.\n",
      "\u001b[97mXGB 3 started.\n"
     ]
    },
    {
     "name": "stderr",
     "output_type": "stream",
     "text": [
      "c:\\Users\\Toffe\\anaconda3\\Lib\\site-packages\\skopt\\optimizer\\optimizer.py:517: UserWarning: The objective has been evaluated at point [0.35, 2, 300] before, using random point [0.4, 6, 200]\n",
      "  warnings.warn(\n",
      "c:\\Users\\Toffe\\anaconda3\\Lib\\site-packages\\skopt\\optimizer\\optimizer.py:517: UserWarning: The objective has been evaluated at point [0.35, 2, 100] before, using random point [0.3, 4, 500]\n",
      "  warnings.warn(\n",
      "c:\\Users\\Toffe\\anaconda3\\Lib\\site-packages\\skopt\\optimizer\\optimizer.py:517: UserWarning: The objective has been evaluated at point [0.35, 2, 100] before, using random point [0.5, 4, 300]\n",
      "  warnings.warn(\n",
      "c:\\Users\\Toffe\\anaconda3\\Lib\\site-packages\\skopt\\optimizer\\optimizer.py:517: UserWarning: The objective has been evaluated at point [0.35, 2, 300] before, using random point [0.2, 4, 500]\n",
      "  warnings.warn(\n"
     ]
    },
    {
     "name": "stdout",
     "output_type": "stream",
     "text": [
      "XGB 3 is done in 198.61385440826416 seconds.\n",
      "\n",
      "\u001b[97mLR 3 started.\n",
      "LR 3 is done in 226.59312200546265 seconds.\n",
      "\n",
      "\u001b[97mRF 3 started.\n",
      "RF 3 is done in 187.16090965270996 seconds.\n",
      "\n",
      "\u001b[92mHard vote F1 score: 0.5206349206349207\n",
      "\u001b[92mSoft vote F1 score: 0.6195286195286196\n",
      "\n",
      "\u001b[94mK-Fold validation: Iteration 4.\n",
      "\u001b[97mXGB 4 started.\n",
      "XGB 4 is done in 172.52216935157776 seconds.\n",
      "\n",
      "\u001b[97mLR 4 started.\n",
      "LR 4 is done in 151.45505332946777 seconds.\n",
      "\n",
      "\u001b[97mRF 4 started.\n",
      "RF 4 is done in 201.64107179641724 seconds.\n",
      "\n",
      "\u001b[92mHard vote F1 score: 0.8412698412698413\n",
      "\u001b[92mSoft vote F1 score: 0.7272727272727272\n",
      "\n",
      "\u001b[94mK-Fold validation: Iteration 5.\n",
      "\u001b[97mXGB 5 started.\n",
      "XGB 5 is done in 161.1420750617981 seconds.\n",
      "\n",
      "\u001b[97mLR 5 started.\n",
      "LR 5 is done in 138.30714321136475 seconds.\n",
      "\n",
      "\u001b[97mRF 5 started.\n",
      "RF 5 is done in 162.9932165145874 seconds.\n",
      "\n",
      "\u001b[92mHard vote F1 score: 0.5\n",
      "\u001b[92mSoft vote F1 score: 0.625\n",
      "\n",
      "\u001b[94mK-Fold validation: Iteration 6.\n",
      "\u001b[97mXGB 6 started.\n",
      "XGB 6 is done in 155.11577486991882 seconds.\n",
      "\n",
      "\u001b[97mLR 6 started.\n",
      "LR 6 is done in 165.06149792671204 seconds.\n",
      "\n",
      "\u001b[97mRF 6 started.\n",
      "RF 6 is done in 167.06228685379028 seconds.\n",
      "\n",
      "\u001b[92mHard vote F1 score: 0.7152777777777778\n",
      "\u001b[92mSoft vote F1 score: 0.7152777777777778\n",
      "\n",
      "\u001b[94mK-Fold validation: Iteration 7.\n",
      "\u001b[97mXGB 7 started.\n",
      "XGB 7 is done in 179.06264686584473 seconds.\n",
      "\n",
      "\u001b[97mLR 7 started.\n",
      "LR 7 is done in 140.06927490234375 seconds.\n",
      "\n",
      "\u001b[97mRF 7 started.\n",
      "RF 7 is done in 187.70188212394714 seconds.\n",
      "\n",
      "\u001b[92mHard vote F1 score: 0.4642857142857143\n",
      "\u001b[92mSoft vote F1 score: 0.5892857142857143\n",
      "\n",
      "\u001b[94mK-Fold validation: Iteration 8.\n",
      "\u001b[97mXGB 8 started.\n",
      "XGB 8 is done in 175.47589325904846 seconds.\n",
      "\n",
      "\u001b[97mLR 8 started.\n",
      "LR 8 is done in 144.71099209785461 seconds.\n",
      "\n",
      "\u001b[97mRF 8 started.\n",
      "RF 8 is done in 203.04748558998108 seconds.\n",
      "\n",
      "\u001b[92mHard vote F1 score: 0.8694444444444445\n",
      "\u001b[92mSoft vote F1 score: 0.8694444444444445\n",
      "\n",
      "\u001b[94mK-Fold validation: Iteration 9.\n",
      "\u001b[97mXGB 9 started.\n",
      "XGB 9 is done in 162.66342449188232 seconds.\n",
      "\n",
      "\u001b[97mLR 9 started.\n",
      "LR 9 is done in 163.97962975502014 seconds.\n",
      "\n",
      "\u001b[97mRF 9 started.\n",
      "RF 9 is done in 187.08830070495605 seconds.\n",
      "\n",
      "\u001b[92mHard vote F1 score: 0.6145833333333333\n",
      "\u001b[92mSoft vote F1 score: 0.6145833333333333\n",
      "\n"
     ]
    }
   ],
   "source": [
    "#Run Pipeline\n",
    "all_models, votes, y_true = pipeline(df_union, y, params, tmt_set)"
   ]
  },
  {
   "cell_type": "code",
   "execution_count": 50,
   "metadata": {},
   "outputs": [],
   "source": [
    "#Combining K-fold results.\n",
    "hard_votes = [item for sublist in [value for key, value in votes.items() if key.startswith('Hard')] for item in sublist]\n",
    "soft_votes = [item for sublist in [value for key, value in votes.items() if key.startswith('Soft')] for item in sublist]\n",
    "xgb_votes = [item for sublist in [value.prediction for key, value in all_models.items() if key.startswith('XGB')] for item in sublist]\n",
    "lr_votes = [item for sublist in [value.prediction for key, value in all_models.items() if key.startswith('LR')] for item in sublist]\n",
    "rf_votes = [item for sublist in [value.prediction for key, value in all_models.items() if key.startswith('RF')] for item in sublist]\n",
    "xgb_prob = [item for sublist in [value.probability for key, value in all_models.items() if key.startswith('XGB')] for item in sublist]\n",
    "lr_prob = [item for sublist in [value.probability for key, value in all_models.items() if key.startswith('LR')] for item in sublist]\n",
    "rf_prob = [item for sublist in [value.probability for key, value in all_models.items() if key.startswith('RF')] for item in sublist]\n",
    "y_trues = [item for sublist in [list(series) for series in y_true.values()] for item in sublist]"
   ]
  },
  {
   "cell_type": "code",
   "execution_count": 51,
   "metadata": {},
   "outputs": [
    {
     "name": "stdout",
     "output_type": "stream",
     "text": [
      "XGB\t\tAUC OVR: 0.7970533114076028 \t\tAUC OVO: 0.7802367288378766 \t\tACC: 0.6470588235294118 \t\tF1: 0.6324316833180048\n",
      "LR \t\tAUC OVR: 0.8681486158743311 \t\tAUC OVO: 0.8664514586322335 \t\tACC: 0.7176470588235294 \t\tF1: 0.7192780748663101\n",
      "RF \t\tAUC OVR: 0.7987665506444307 \t\tAUC OVO: 0.8052008608321376 \t\tACC: 0.6470588235294118 \t\tF1: 0.6373440285204991\n",
      "Soft Vote\t\t\t\t\t\t\t\t\t\t\tACC: 0.7058823529411765 \t\tF1: 0.7001680260482411\n",
      "Hard Vote\t\t\t\t\t\t\t\t\t\t\tACC: 0.6823529411764706 \t\tF1: 0.6726858185134519\n"
     ]
    }
   ],
   "source": [
    "print(f\"XGB\\t\\tAUC OVR: {roc_auc_score(y_trues, xgb_prob, multi_class='ovr')} \\t\\tAUC OVO: {roc_auc_score(y_trues, xgb_prob, multi_class='ovo')} \\t\\tACC: {accuracy_score(y_trues, xgb_votes)} \\t\\tF1: {f1_score(y_trues, xgb_votes, average='weighted')}\")\n",
    "print(f\"LR \\t\\tAUC OVR: {roc_auc_score(y_trues, lr_prob, multi_class='ovr')} \\t\\tAUC OVO: {roc_auc_score(y_trues, lr_prob, multi_class='ovo')} \\t\\tACC: {accuracy_score(y_trues, lr_votes)} \\t\\tF1: {f1_score(y_trues, lr_votes, average='weighted')}\")\n",
    "print(f\"RF \\t\\tAUC OVR: {roc_auc_score(y_trues, rf_prob, multi_class='ovr')} \\t\\tAUC OVO: {roc_auc_score(y_trues, rf_prob, multi_class='ovo')} \\t\\tACC: {accuracy_score(y_trues, rf_votes)} \\t\\tF1: {f1_score(y_trues, rf_votes, average='weighted')}\")\n",
    "print(f\"Soft Vote\\t\\t\\t\\t\\t\\t\\t\\t\\t\\t\\tACC: {accuracy_score(y_trues, soft_votes)} \\t\\tF1: {f1_score(y_trues, soft_votes, average='weighted')}\")\n",
    "print(f\"Hard Vote\\t\\t\\t\\t\\t\\t\\t\\t\\t\\t\\tACC: {accuracy_score(y_trues, hard_votes)} \\t\\tF1: {f1_score(y_trues, hard_votes, average='weighted')}\")"
   ]
  },
  {
   "cell_type": "markdown",
   "metadata": {},
   "source": [
    "### XGB With Missing Data"
   ]
  },
  {
   "cell_type": "code",
   "execution_count": 74,
   "metadata": {},
   "outputs": [],
   "source": [
    "def set_max_missingness_per_column(df, threshold=0.5, negative=False):\n",
    "    \"\"\"\n",
    "    Removes columns with nan values above a threshold.\n",
    "\n",
    "    :param df: Dataframe-base to remove NaN-heavy columns from.\n",
    "    :param threshold: Threshold percentage of missingness allowed per column.\n",
    "    :param negative: Used if wanting to return all columns with more than threshold missingness.\n",
    "    :return: New dataframe without NaN-heavy columns.\n",
    "    \"\"\" \n",
    "    if not negative:\n",
    "        nan_percentage = (df.isna().mean()).round(4)\n",
    "        selected_columns = nan_percentage[nan_percentage <= threshold].index\n",
    "        return df[selected_columns]\n",
    "    \n",
    "    nan_percentage = (df.isna().mean()).round(4)\n",
    "    selected_columns = nan_percentage[nan_percentage >= threshold].index\n",
    "    return df[selected_columns]"
   ]
  },
  {
   "cell_type": "code",
   "execution_count": 75,
   "metadata": {},
   "outputs": [],
   "source": [
    "#Loading dataframes, Pooling and classes.\n",
    "df_with_missing = pd.read_csv(\"./Data/data files/iNPH_data_protein_median.csv\")\n",
    "df_with_missing = df_with_missing[df_with_missing[\"CSF_type\"] == \"L\"].reset_index()\n",
    "df_with_missing = df_with_missing.iloc[:, 12:]\n",
    "df_with_missing.replace([np.inf, -np.inf], np.nan, inplace=True)\n",
    "df_with_missing = set_max_missingness_per_column(df_with_missing, 0.95)"
   ]
  },
  {
   "cell_type": "code",
   "execution_count": 108,
   "metadata": {},
   "outputs": [
    {
     "name": "stdout",
     "output_type": "stream",
     "text": [
      "\n",
      "-------------- Starting K-fold cross validation: --------------\n",
      "\n",
      "\u001b[94mK-Fold validation: Iteration 0.\n",
      "\u001b[97mXGB 0 started.\n",
      "XGB 0 is done in 258.9974772930145 seconds.\n",
      "\n",
      "\u001b[92mHard vote F1 score: 0.37530864197530867\n",
      "\u001b[92mSoft vote F1 score: 0.37530864197530867\n",
      "\n",
      "\u001b[94mK-Fold validation: Iteration 1.\n",
      "\u001b[97mXGB 1 started.\n",
      "XGB 1 is done in 302.38594341278076 seconds.\n",
      "\n",
      "\u001b[92mHard vote F1 score: 0.2424242424242424\n",
      "\u001b[92mSoft vote F1 score: 0.2424242424242424\n",
      "\n",
      "\u001b[94mK-Fold validation: Iteration 2.\n",
      "\u001b[97mXGB 2 started.\n",
      "XGB 2 is done in 211.96726369857788 seconds.\n",
      "\n",
      "\u001b[92mHard vote F1 score: 0.16161616161616163\n",
      "\u001b[92mSoft vote F1 score: 0.16161616161616163\n",
      "\n",
      "\u001b[94mK-Fold validation: Iteration 3.\n",
      "\u001b[97mXGB 3 started.\n",
      "XGB 3 is done in 342.13579654693604 seconds.\n",
      "\n",
      "\u001b[92mHard vote F1 score: 0.44444444444444436\n",
      "\u001b[92mSoft vote F1 score: 0.44444444444444436\n",
      "\n",
      "\u001b[94mK-Fold validation: Iteration 4.\n",
      "\u001b[97mXGB 4 started.\n",
      "XGB 4 is done in 241.7405915260315 seconds.\n",
      "\n",
      "\u001b[92mHard vote F1 score: 0.3611111111111111\n",
      "\u001b[92mSoft vote F1 score: 0.3611111111111111\n",
      "\n",
      "\u001b[94mK-Fold validation: Iteration 5.\n",
      "\u001b[97mXGB 5 started.\n",
      "XGB 5 is done in 259.7991065979004 seconds.\n",
      "\n",
      "\u001b[92mHard vote F1 score: 0.22222222222222224\n",
      "\u001b[92mSoft vote F1 score: 0.22222222222222224\n",
      "\n",
      "\u001b[94mK-Fold validation: Iteration 6.\n",
      "\u001b[97mXGB 6 started.\n",
      "XGB 6 is done in 324.6908950805664 seconds.\n",
      "\n",
      "\u001b[92mHard vote F1 score: 0.25\n",
      "\u001b[92mSoft vote F1 score: 0.25\n",
      "\n",
      "\u001b[94mK-Fold validation: Iteration 7.\n",
      "\u001b[97mXGB 7 started.\n",
      "XGB 7 is done in 305.27923035621643 seconds.\n",
      "\n",
      "\u001b[92mHard vote F1 score: 0.5833333333333333\n",
      "\u001b[92mSoft vote F1 score: 0.5833333333333333\n",
      "\n",
      "\u001b[94mK-Fold validation: Iteration 8.\n",
      "\u001b[97mXGB 8 started.\n",
      "XGB 8 is done in 2614.603078842163 seconds.\n",
      "\n",
      "\u001b[92mHard vote F1 score: 0.3472222222222222\n",
      "\u001b[92mSoft vote F1 score: 0.3472222222222222\n",
      "\n",
      "\u001b[94mK-Fold validation: Iteration 9.\n",
      "\u001b[97mXGB 9 started.\n"
     ]
    }
   ],
   "source": [
    "xgboost_params = {\"eta\": [0.05, 0.1, 0.15, 0.2, 0.25, 0.3, 0.35, 0.4, 0.45, 0.5],\n",
    "                  \"max_depth\": [2,4,6,8,10],\n",
    "                  \"n_estimators\": [100, 200, 300, 400, 500]}\n",
    "params = [xgboost_params]\n",
    "all_models, votes, y_true = pipeline(df_with_missing, y, params, tmt_set)"
   ]
  },
  {
   "cell_type": "code",
   "execution_count": null,
   "metadata": {},
   "outputs": [],
   "source": [
    "xgb_votes = [item for sublist in [value.prediction for key, value in all_models.items() if key.startswith('XGB')] for item in sublist]\n",
    "xgb_prob = [item for sublist in [value.probability for key, value in all_models.items() if key.startswith('XGB')] for item in sublist]\n",
    "y_trues = [item for sublist in [list(series) for series in y_true.values()] for item in sublist]\n",
    "\n",
    "print(f\"XGB\\t\\tAUC OVR: {roc_auc_score(y_trues, xgb_prob, multi_class='ovr')} \\t\\tAUC OVO: {roc_auc_score(y_trues, xgb_prob, multi_class='ovo')} \\t\\tACC: {accuracy_score(y_trues, xgb_votes)} \\t\\tF1: {f1_score(y_trues, xgb_votes, average='weighted')}\")"
   ]
  },
  {
   "cell_type": "markdown",
   "metadata": {},
   "source": [
    "### GridSearchCV"
   ]
  },
  {
   "cell_type": "code",
   "execution_count": 53,
   "metadata": {},
   "outputs": [],
   "source": [
    "#FASTER, HARDER, SCOOTER\n",
    "xgboost_params = {\"eta\": [0.2, 0.3],\n",
    "                  \"min_child_weight\": [0.45],\n",
    "                  \"gamma\": [0.0001, 0.01, 1],\n",
    "                  \"subsample\": [0.4, 0.8],\n",
    "                  \"reg_lambda\": [0.85],\n",
    "                  \"lambda\": [0.5, 0.7],\n",
    "                  \"max_depth\": [4, 6],\n",
    "                  \"n_estimators\": [150]}\n",
    "lr_params = {\"penalty\": [\"elasticnet\"],\n",
    "              \"C\": [0.0001, 0.01, 1, 10, 100],\n",
    "              \"solver\": [\"saga\"],\n",
    "              \"multi_class\": [\"multinomial\"],\n",
    "              \"max_iter\": [4000, 8000, 12000],\n",
    "              \"tol\": [1e-2, 1e-3, 1e-4],\n",
    "              \"n_jobs\": [-1],\n",
    "              \"l1_ratio\": [0, 0.3, 0.5, 0.8, 1]}\n",
    "rf_params = {\"n_estimators\": [300, 400],\n",
    "             \"criterion\": [\"gini\", \"entropy\", \"log_loss\"],\n",
    "             \"max_depth\": [5, 10, 20],\n",
    "             \"max_features\": [\"sqrt\", \"log2\"],\n",
    "             \"n_jobs\": [-1],\n",
    "             \"min_samples_leaf\": [1,2,4]}\n",
    "\n",
    "params = [xgboost_params, lr_params, rf_params]"
   ]
  },
  {
   "cell_type": "code",
   "execution_count": 54,
   "metadata": {},
   "outputs": [
    {
     "name": "stdout",
     "output_type": "stream",
     "text": [
      "\n",
      "-------------- Starting K-fold cross validation: --------------\n",
      "\n",
      "\u001b[94mK-Fold validation: Iteration 0.\n",
      "\u001b[97mXGB 0 started.\n",
      "XGB 0 is done in 23.064324378967285 seconds.\n",
      "\n",
      "\u001b[97mLR 0 started.\n",
      "LR 0 is done in 23.006800413131714 seconds.\n",
      "\n",
      "\u001b[97mRF 0 started.\n",
      "RF 0 is done in 165.81152868270874 seconds.\n",
      "\n",
      "\u001b[92mHard vote F1 score: 0.6490299823633158\n",
      "\u001b[92mSoft vote F1 score: 0.7777777777777778\n",
      "\n",
      "\u001b[94mK-Fold validation: Iteration 1.\n",
      "\u001b[97mXGB 1 started.\n",
      "XGB 1 is done in 21.151038885116577 seconds.\n",
      "\n",
      "\u001b[97mLR 1 started.\n",
      "LR 1 is done in 23.111628770828247 seconds.\n",
      "\n",
      "\u001b[97mRF 1 started.\n",
      "RF 1 is done in 157.11922097206116 seconds.\n",
      "\n",
      "\u001b[92mHard vote F1 score: 0.5925925925925924\n",
      "\u001b[92mSoft vote F1 score: 0.6518518518518519\n",
      "\n",
      "\u001b[94mK-Fold validation: Iteration 2.\n",
      "\u001b[97mXGB 2 started.\n",
      "XGB 2 is done in 21.93117880821228 seconds.\n",
      "\n",
      "\u001b[97mLR 2 started.\n",
      "LR 2 is done in 23.2705717086792 seconds.\n",
      "\n",
      "\u001b[97mRF 2 started.\n",
      "RF 2 is done in 160.1758975982666 seconds.\n",
      "\n",
      "\u001b[92mHard vote F1 score: 0.6296296296296295\n",
      "\u001b[92mSoft vote F1 score: 0.7365079365079364\n",
      "\n",
      "\u001b[94mK-Fold validation: Iteration 3.\n",
      "\u001b[97mXGB 3 started.\n",
      "XGB 3 is done in 21.651185750961304 seconds.\n",
      "\n",
      "\u001b[97mLR 3 started.\n",
      "LR 3 is done in 22.159644603729248 seconds.\n",
      "\n",
      "\u001b[97mRF 3 started.\n",
      "RF 3 is done in 168.4503116607666 seconds.\n",
      "\n",
      "\u001b[92mHard vote F1 score: 0.7283950617283951\n",
      "\u001b[92mSoft vote F1 score: 0.7283950617283951\n",
      "\n",
      "\u001b[94mK-Fold validation: Iteration 4.\n",
      "\u001b[97mXGB 4 started.\n",
      "XGB 4 is done in 21.27239727973938 seconds.\n",
      "\n",
      "\u001b[97mLR 4 started.\n",
      "LR 4 is done in 22.893574476242065 seconds.\n",
      "\n",
      "\u001b[97mRF 4 started.\n",
      "RF 4 is done in 163.88377618789673 seconds.\n",
      "\n",
      "\u001b[92mHard vote F1 score: 0.6707070707070707\n",
      "\u001b[92mSoft vote F1 score: 0.7160493827160495\n",
      "\n",
      "\u001b[94mK-Fold validation: Iteration 5.\n",
      "\u001b[97mXGB 5 started.\n",
      "XGB 5 is done in 22.533607244491577 seconds.\n",
      "\n",
      "\u001b[97mLR 5 started.\n",
      "LR 5 is done in 20.328762769699097 seconds.\n",
      "\n",
      "\u001b[97mRF 5 started.\n",
      "RF 5 is done in 168.996910572052 seconds.\n",
      "\n",
      "\u001b[92mHard vote F1 score: 1.0\n",
      "\u001b[92mSoft vote F1 score: 1.0\n",
      "\n",
      "\u001b[94mK-Fold validation: Iteration 6.\n",
      "\u001b[97mXGB 6 started.\n",
      "XGB 6 is done in 25.507805585861206 seconds.\n",
      "\n",
      "\u001b[97mLR 6 started.\n",
      "LR 6 is done in 27.000098943710327 seconds.\n",
      "\n",
      "\u001b[97mRF 6 started.\n",
      "RF 6 is done in 185.30614590644836 seconds.\n",
      "\n",
      "\u001b[92mHard vote F1 score: 0.625\n",
      "\u001b[92mSoft vote F1 score: 0.8694444444444445\n",
      "\n",
      "\u001b[94mK-Fold validation: Iteration 7.\n",
      "\u001b[97mXGB 7 started.\n",
      "XGB 7 is done in 23.994020462036133 seconds.\n",
      "\n",
      "\u001b[97mLR 7 started.\n",
      "LR 7 is done in 21.539842128753662 seconds.\n",
      "\n",
      "\u001b[97mRF 7 started.\n",
      "RF 7 is done in 165.4710054397583 seconds.\n",
      "\n",
      "\u001b[92mHard vote F1 score: 0.6083333333333334\n",
      "\u001b[92mSoft vote F1 score: 0.7152777777777778\n",
      "\n",
      "\u001b[94mK-Fold validation: Iteration 8.\n",
      "\u001b[97mXGB 8 started.\n",
      "XGB 8 is done in 23.694868564605713 seconds.\n",
      "\n",
      "\u001b[97mLR 8 started.\n",
      "LR 8 is done in 24.654627799987793 seconds.\n",
      "\n",
      "\u001b[97mRF 8 started.\n",
      "RF 8 is done in 166.33470606803894 seconds.\n",
      "\n",
      "\u001b[92mHard vote F1 score: 0.5511363636363636\n",
      "\u001b[92mSoft vote F1 score: 0.45\n",
      "\n",
      "\u001b[94mK-Fold validation: Iteration 9.\n",
      "\u001b[97mXGB 9 started.\n",
      "XGB 9 is done in 26.644855976104736 seconds.\n",
      "\n",
      "\u001b[97mLR 9 started.\n",
      "LR 9 is done in 22.660611867904663 seconds.\n",
      "\n",
      "\u001b[97mRF 9 started.\n",
      "RF 9 is done in 160.64196705818176 seconds.\n",
      "\n",
      "\u001b[92mHard vote F1 score: 0.6190476190476192\n",
      "\u001b[92mSoft vote F1 score: 0.8694444444444445\n",
      "\n"
     ]
    }
   ],
   "source": [
    "#Run Pipeline\n",
    "all_models, votes, y_true = pipeline(df_union, y, params, tmt_set)"
   ]
  },
  {
   "cell_type": "code",
   "execution_count": 55,
   "metadata": {},
   "outputs": [],
   "source": [
    "#Combining K-fold results.\n",
    "hard_votes = [item for sublist in [value for key, value in votes.items() if key.startswith('Hard')] for item in sublist]\n",
    "soft_votes = [item for sublist in [value for key, value in votes.items() if key.startswith('Soft')] for item in sublist]\n",
    "xgb_votes = [item for sublist in [value.prediction for key, value in all_models.items() if key.startswith('XGB')] for item in sublist]\n",
    "lr_votes = [item for sublist in [value.prediction for key, value in all_models.items() if key.startswith('LR')] for item in sublist]\n",
    "rf_votes = [item for sublist in [value.prediction for key, value in all_models.items() if key.startswith('RF')] for item in sublist]\n",
    "xgb_prob = [item for sublist in [value.probability for key, value in all_models.items() if key.startswith('XGB')] for item in sublist]\n",
    "lr_prob = [item for sublist in [value.probability for key, value in all_models.items() if key.startswith('LR')] for item in sublist]\n",
    "rf_prob = [item for sublist in [value.probability for key, value in all_models.items() if key.startswith('RF')] for item in sublist]\n",
    "y_trues = [item for sublist in [list(series) for series in y_true.values()] for item in sublist]"
   ]
  },
  {
   "cell_type": "code",
   "execution_count": 56,
   "metadata": {},
   "outputs": [
    {
     "name": "stdout",
     "output_type": "stream",
     "text": [
      "XGB\t\tAUC OVR: 0.851462255264264 \t\tAUC OVO: 0.8364538498326161 \t\tACC: 0.7176470588235294 \t\tF1: 0.7161338098457773\n",
      "LR \t\tAUC OVR: 0.8982780441771073 \t\tAUC OVO: 0.8842659014825442 \t\tACC: 0.7529411764705882 \t\tF1: 0.7448229419645096\n",
      "RF \t\tAUC OVR: 0.8517328155382845 \t\tAUC OVO: 0.8559780009564802 \t\tACC: 0.6588235294117647 \t\tF1: 0.6531163776371971\n",
      "Soft Vote\t\t\t\t\t\t\t\t\t\t\tACC: 0.7647058823529411 \t\tF1: 0.7563143151997642\n",
      "Hard Vote\t\t\t\t\t\t\t\t\t\t\tACC: 0.6823529411764706 \t\tF1: 0.6797912713472487\n"
     ]
    }
   ],
   "source": [
    "print(f\"XGB\\t\\tAUC OVR: {roc_auc_score(y_trues, xgb_prob, multi_class='ovr')} \\t\\tAUC OVO: {roc_auc_score(y_trues, xgb_prob, multi_class='ovo')} \\t\\tACC: {accuracy_score(y_trues, xgb_votes)} \\t\\tF1: {f1_score(y_trues, xgb_votes, average='weighted')}\")\n",
    "print(f\"LR \\t\\tAUC OVR: {roc_auc_score(y_trues, lr_prob, multi_class='ovr')} \\t\\tAUC OVO: {roc_auc_score(y_trues, lr_prob, multi_class='ovo')} \\t\\tACC: {accuracy_score(y_trues, lr_votes)} \\t\\tF1: {f1_score(y_trues, lr_votes, average='weighted')}\")\n",
    "print(f\"RF \\t\\tAUC OVR: {roc_auc_score(y_trues, rf_prob, multi_class='ovr')} \\t\\tAUC OVO: {roc_auc_score(y_trues, rf_prob, multi_class='ovo')} \\t\\tACC: {accuracy_score(y_trues, rf_votes)} \\t\\tF1: {f1_score(y_trues, rf_votes, average='weighted')}\")\n",
    "print(f\"Soft Vote\\t\\t\\t\\t\\t\\t\\t\\t\\t\\t\\tACC: {accuracy_score(y_trues, soft_votes)} \\t\\tF1: {f1_score(y_trues, soft_votes, average='weighted')}\")\n",
    "print(f\"Hard Vote\\t\\t\\t\\t\\t\\t\\t\\t\\t\\t\\tACC: {accuracy_score(y_trues, hard_votes)} \\t\\tF1: {f1_score(y_trues, hard_votes, average='weighted')}\")"
   ]
  }
 ],
 "metadata": {
  "kernelspec": {
   "display_name": "Python 3",
   "language": "python",
   "name": "python3"
  },
  "language_info": {
   "codemirror_mode": {
    "name": "ipython",
    "version": 3
   },
   "file_extension": ".py",
   "mimetype": "text/x-python",
   "name": "python",
   "nbconvert_exporter": "python",
   "pygments_lexer": "ipython3",
   "version": "3.11.5"
  }
 },
 "nbformat": 4,
 "nbformat_minor": 2
}
