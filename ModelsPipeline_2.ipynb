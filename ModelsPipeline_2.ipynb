{
 "cells": [
  {
   "cell_type": "markdown",
   "metadata": {},
   "source": [
    "# Initial"
   ]
  },
  {
   "cell_type": "markdown",
   "metadata": {},
   "source": [
    "## Imports"
   ]
  },
  {
   "cell_type": "code",
   "execution_count": 75,
   "metadata": {},
   "outputs": [],
   "source": [
    "import pandas as pd\n",
    "import numpy as np\n",
    "import os\n",
    "from collections import Counter\n",
    "\n",
    "from combat.pycombat import pycombat\n",
    "\n",
    "from sklearn.model_selection import train_test_split, GridSearchCV, KFold, StratifiedKFold\n",
    "from sklearn.pipeline import make_pipeline, Pipeline\n",
    "from sklearn.model_selection import RepeatedStratifiedKFold, cross_val_score\n",
    "from sklearn.metrics import accuracy_score, f1_score, confusion_matrix, multilabel_confusion_matrix, ConfusionMatrixDisplay\n",
    "from imblearn.over_sampling import SMOTE\n",
    "import matplotlib.pyplot as plt\n",
    "\n",
    "from sklearn.linear_model import LogisticRegression, Lasso\n",
    "from sklearn.ensemble import RandomForestClassifier\n",
    "from sklearn.preprocessing import StandardScaler\n",
    "\n",
    "from xgboost import XGBClassifier\n",
    "from time import time\n",
    "\n"
   ]
  },
  {
   "cell_type": "markdown",
   "metadata": {},
   "source": [
    "## Code"
   ]
  },
  {
   "cell_type": "markdown",
   "metadata": {},
   "source": [
    "### Fixing Datasets"
   ]
  },
  {
   "cell_type": "code",
   "execution_count": 2,
   "metadata": {},
   "outputs": [],
   "source": [
    "def import_csv_files(path, starts_with, ends_with = \".csv\"):\n",
    "    \"\"\"Imports csv files based on path and starting characters.\n",
    "\n",
    "    :param path: Path of where to find csv files.\n",
    "    :param starts_with: Starting characters of dataframes to find.\n",
    "    :param ends_with: Type of file to load.\n",
    "    :return: List of loaded csv files.\n",
    "    \"\"\"    \n",
    "    file_list = []\n",
    "    for filename in os.listdir(path):\n",
    "        if filename.startswith(starts_with) and filename.endswith(ends_with):\n",
    "            file_path = os.path.join(path, filename)\n",
    "            file_list.append(pd.read_csv(file_path))\n",
    "    return file_list"
   ]
  },
  {
   "cell_type": "code",
   "execution_count": 3,
   "metadata": {},
   "outputs": [],
   "source": [
    "def same_shape(dfs : list):\n",
    "    \"\"\"Checks if all dataframes in a list have the same shape.\n",
    "\n",
    "    :param dfs: List of dataframes.\n",
    "    :return: Boolean value if all dataframes have the same shape.\n",
    "    \"\"\"    \n",
    "    return all(df.shape == dfs[0].shape for df in dfs)"
   ]
  },
  {
   "cell_type": "code",
   "execution_count": 4,
   "metadata": {},
   "outputs": [],
   "source": [
    "def get_average_from_m_datasets(dfs : list):\n",
    "    \"\"\"Pools imputed dataset into a single dataframe.\n",
    "\n",
    "    :param dfs: List of dataframes.\n",
    "    :return: Singular, pooled dataframe.\n",
    "    \"\"\"    \n",
    "    if not same_shape:\n",
    "        print(\"Dataframes must have the same shape\")\n",
    "    joined = pd.concat(dfs).reset_index() \n",
    "    return joined.groupby('index').mean()"
   ]
  },
  {
   "cell_type": "markdown",
   "metadata": {},
   "source": [
    "### Cleaning and Perturbation"
   ]
  },
  {
   "cell_type": "code",
   "execution_count": 5,
   "metadata": {},
   "outputs": [],
   "source": [
    "def run_combat(df, TMT_set_indices):\n",
    "    \"\"\"Run ComBat to reduce batch effect on a dataframe.\n",
    "\n",
    "    :param df: Dataframe that ComBat is runned on\n",
    "    :param TMT_set_indices: Labels of which TMT batch each row belongs to.\n",
    "    :return: DF with ComBat applied to it\n",
    "    \"\"\"    \n",
    "    return pycombat(df.T, TMT_set_indices).T"
   ]
  },
  {
   "cell_type": "code",
   "execution_count": 6,
   "metadata": {},
   "outputs": [],
   "source": [
    "def add_noise(df, n_samples, std = 0.1):\n",
    "    \"\"\"Helper function for simple perturbation function. Adds gaussian noise to randomly sampled rows of the df passed as an argument.\n",
    "\n",
    "    :param df: df filtered on class\n",
    "    :param n_samples: Number of samples to perform random sampling on\n",
    "    :param std: Standard deviation. Defaults to 0.1.\n",
    "    :return: df with added perturbed samples\n",
    "    \"\"\"      \n",
    "    sampled_df = df.sample(n = n_samples, replace = True)\n",
    "    gaussian_noise = np.random.normal(0, std, size=sampled_df.shape)\n",
    "    return sampled_df + gaussian_noise"
   ]
  },
  {
   "cell_type": "code",
   "execution_count": 7,
   "metadata": {},
   "outputs": [],
   "source": [
    "def simple_perturbation(X, y, n_samples_per_class = None, std = 0.1):\n",
    "    \"\"\"Performs a simple perturbation by sampling random rows of classes and adds gaussian noise to them\n",
    "\n",
    "    :param X: Dataframe with samples to get perturbed\n",
    "    :param y: Class labels\n",
    "    :param n_samples_per_class: Decides how many samples per class that are going to be sampled, defaults to None. \n",
    "    If none -> all classes will get equal weight according to size of current largest class.\n",
    "    :param std: How much the noise can deviate from the mean (Standard dev.), defaults to 0.1\n",
    "    :return: A df with the perturbed samples. A list stating which row belongs to which class.\n",
    "    \"\"\"    \n",
    "    classes = y.value_counts()\n",
    "    if n_samples_per_class is None:\n",
    "        largest_class = classes.argmax()\n",
    "        largest_n_samples = classes.pop(largest_class)\n",
    "    else:\n",
    "        largest_n_samples = n_samples_per_class\n",
    "    df_list = []\n",
    "    y_new_classes = list(y)\n",
    "    for idx, n_samples in classes.items():\n",
    "        perturbed = add_noise(X[y == idx], largest_n_samples - n_samples, std=std)\n",
    "        df_list.append(perturbed)\n",
    "        y_new_classes = y_new_classes + [idx] * len(perturbed)\n",
    "    return pd.concat([X] + df_list, axis=0), y_new_classes"
   ]
  },
  {
   "cell_type": "markdown",
   "metadata": {},
   "source": [
    "### GridSearch and Feature Importance"
   ]
  },
  {
   "cell_type": "code",
   "execution_count": 8,
   "metadata": {},
   "outputs": [],
   "source": [
    "def get_best_params(X, y, models, params, cv = 5, n_jobs = -1):\n",
    "    \"\"\"Runs GridSearchCV in order to find best parameters on one or more models.\n",
    "\n",
    "    :param X: The training data for the models.\n",
    "    :param y: The correct classification of the training data.\n",
    "    :param models: A list of models to be trained.\n",
    "    :param params: A dictionary with the parameters for each model to be GridSearched.\n",
    "    :param cv: The K-fold cross validation value.\n",
    "    :param n_jobs: Number of cores to use for GridSearchCV.\n",
    "\n",
    "    :return: DF with ComBat applied to it\n",
    "    \"\"\"   \n",
    "    best_params = {}\n",
    "    for model, param in zip(models, params):\n",
    "        start_time = time()\n",
    "        print(f\"{model.name} started.\")\n",
    "        clf = GridSearchCV(model, param_grid=param, cv=cv, n_jobs=n_jobs, scoring=\"f1_weighted\")\n",
    "        clf.fit(X, y)\n",
    "        best_params[model.name] = clf.best_params_\n",
    "        print(f\"{model.name} is done in {time() - start_time} seconds.\\n\" )\n",
    "    return best_params"
   ]
  },
  {
   "cell_type": "code",
   "execution_count": 40,
   "metadata": {},
   "outputs": [],
   "source": [
    "def get_average_feature_importance(d, model_name, df):\n",
    "    \"\"\"Extracts feature importance from the same models over multiple iterations, averaging them over each iteration.\n",
    "\n",
    "\n",
    "    :param d: Dictionary with results.\n",
    "    :param model_name: Name of the models.\n",
    "    :param df: Original dataframe in order to map feature importances to column names.\n",
    "    :return: Dictionary with column name as keys and average feature importance as values.\n",
    "    \"\"\"  \n",
    "    avg_feature_importance = {}\n",
    "    keys = [key for key in d.keys() if key.startswith(f'{model_name}')]\n",
    "    for key in keys:\n",
    "        model = d[key]\n",
    "        importances = model.feature_importances_\n",
    "        for index, importance in enumerate(importances):\n",
    "            name = df.columns[index]\n",
    "            if name in avg_feature_importance:\n",
    "                avg_feature_importance[name] += importance\n",
    "            else:\n",
    "                avg_feature_importance[name] = importance\n",
    "    for feature, total in avg_feature_importance.items():\n",
    "        mean = total / len(keys)\n",
    "        avg_feature_importance[feature] = mean\n",
    "    \n",
    "    return avg_feature_importance"
   ]
  },
  {
   "cell_type": "markdown",
   "metadata": {},
   "source": [
    "### Voting"
   ]
  },
  {
   "cell_type": "code",
   "execution_count": 10,
   "metadata": {},
   "outputs": [],
   "source": [
    "def hard_voting(models):\n",
    "    \"\"\"Hard voting based on predictions from multiple models.\n",
    "\n",
    "    :param models: List of trained models.\n",
    "    :return: Hard voting results.\n",
    "    \"\"\"  \n",
    "    predictions = [model.prediction for model in models]\n",
    "    predictions = [[row[i] for row in predictions] for i in range(len(predictions[0]))]\n",
    "    results = []\n",
    "    for index, p in enumerate(predictions):\n",
    "        most_common = Counter(p).most_common()\n",
    "        if len(most_common) > 1 and most_common[0][1] == most_common[1][1]:\n",
    "            probabilities = [model.probability[index] for model in models]\n",
    "            probabilities = [[row[i] for row in probabilities] for i in range(len(probabilities[0]))]\n",
    "            probabilities = [sum(sublist) for sublist in probabilities]\n",
    "            if len(most_common) > 2 and most_common[0][1] == most_common[2][1]:\n",
    "                results.append(np.argmax(probabilities))\n",
    "            else:\n",
    "                probabilities[most_common[2][0]] = 0\n",
    "                results.append(np.argmax(probabilities))\n",
    "        else:\n",
    "            results.append(most_common[0][0])\n",
    "\n",
    "    return results  "
   ]
  },
  {
   "cell_type": "code",
   "execution_count": 11,
   "metadata": {},
   "outputs": [],
   "source": [
    "def summed_votes(pred_proba):\n",
    "    \"\"\"Summs the soft vote prediction probability together.\n",
    "\n",
    "    :param pred_proba: The prediciton probability from the different models.\n",
    "    :return: The summized prediction probability.\n",
    "    \"\"\"  \n",
    "    length = len(pred_proba[0])\n",
    "    summed_columns = []\n",
    "\n",
    "    for i in range(length):\n",
    "        column_sum = np.sum([preds[i] for preds in pred_proba], axis=0)\n",
    "        summed_columns.append(column_sum)\n",
    "\n",
    "    return summed_columns"
   ]
  },
  {
   "cell_type": "code",
   "execution_count": 12,
   "metadata": {},
   "outputs": [],
   "source": [
    "def soft_voting(models):\n",
    "    \"\"\"Soft voting based on predictions from multiple models.\n",
    "\n",
    "    :param models: List of trained models.\n",
    "    :return: Soft voting results.\n",
    "    \"\"\"  \n",
    "    probabilities = [model.probability for model in models]\n",
    "    probabilities = [[row[i] for row in probabilities] for i in range(len(probabilities[0]))]\n",
    "    results = []\n",
    "    for p in probabilities:\n",
    "        vote = summed_votes(p)\n",
    "        results.append(np.argmax(vote))\n",
    "    return results"
   ]
  },
  {
   "cell_type": "markdown",
   "metadata": {},
   "source": [
    "### Main Pipeline"
   ]
  },
  {
   "cell_type": "code",
   "execution_count": 13,
   "metadata": {},
   "outputs": [],
   "source": [
    "def pipeline(X, y, models, params, tmt_set = None, K = 5, n_samples_per_class = 100):\n",
    "    \"\"\"Main pipeline code that runs K-fold validation.\n",
    "\n",
    "    :param X: Dataframe of X values for training.\n",
    "    :param y: Pandas series of real class values for training \n",
    "    :param models: Models to be trained on X and y.\n",
    "    :param params: Parameter settings to get best parameters from.\n",
    "    :param tmt_set: Pandas series with indexes for batches from TMT sets.\n",
    "    :param K: Number of K-fold iterations to run.\n",
    "    :param n_samples_per_class: Number of samples per class that should exist after perturbation.\n",
    "    :return: -\n",
    "    \"\"\"  \n",
    "    X = run_combat(X, tmt_set)\n",
    "    k_fold = StratifiedKFold(n_splits=K, shuffle=True)\n",
    "    for i, (train_index, test_index) in enumerate(k_fold.split(X, y)):\n",
    "        X_train, X_test = X.loc[train_index], X.loc[test_index]\n",
    "        y_train, y_test = y.loc[train_index], y.loc[test_index]\n",
    "        X_train, y_train = simple_perturbation(X_train, y_train, n_samples_per_class=n_samples_per_class)\n",
    "        scaler = StandardScaler()\n",
    "        X_train = scaler.fit_transform(X_train)\n",
    "        X_test = scaler.transform(X_test)\n",
    "        best_params = get_best_params(X_train, y_train, models, params)\n",
    "        for model in models:\n",
    "            best_model = model.__class__(**best_params[model.name])\n",
    "            best_model.fit(X_train, y_train)\n",
    "            y_pred = best_model.predict(X_test)\n",
    "            print(f1_score(y_test, y_pred, average=\"weighted\"))"
   ]
  },
  {
   "cell_type": "code",
   "execution_count": 14,
   "metadata": {},
   "outputs": [],
   "source": [
    "def create_models(iteration):\n",
    "    \"\"\"Creates 3 new basemodels with names depending on iteration.\n",
    "\n",
    "    :param iteration: Current iteration in K-Fold cross validation.\n",
    "    :return: List of base models.\n",
    "    \"\"\"      \n",
    "    xgboost = XGBClassifier()\n",
    "    xgboost.name = f\"XGB {iteration}\"\n",
    "    lr = LogisticRegression()\n",
    "    lr.name = f\"LR {iteration}\"\n",
    "    rf = RandomForestClassifier()\n",
    "    rf.name = f\"RF {iteration}\"\n",
    "\n",
    "    return [xgboost, lr, rf]"
   ]
  },
  {
   "cell_type": "code",
   "execution_count": 30,
   "metadata": {},
   "outputs": [],
   "source": [
    "def pipeline_2(X, y, params, tmt_set = None, K = 5, n_samples_per_class = 100):\n",
    "    \"\"\"Main pipeline code that runs K-fold validation.\n",
    "\n",
    "    :param X: Dataframe of X values for training.\n",
    "    :param y: Pandas series of real class values for training \n",
    "    :param params: Parameter settings to get best parameters from.\n",
    "    :param tmt_set: Pandas series with indexes for batches from TMT sets.\n",
    "    :param K: Number of K-fold iterations to run.\n",
    "    :param n_samples_per_class: Number of samples per class that should exist after perturbation.\n",
    "    :return: -\n",
    "    \"\"\"  \n",
    "    all_models = {}\n",
    "    votes = {}\n",
    "    y_true = {}\n",
    "    X = run_combat(X, tmt_set)\n",
    "    k_fold = StratifiedKFold(n_splits=K, shuffle=True)\n",
    "    print(\"\\n-------------- Starting K-fold cross validation: --------------\\n\")\n",
    "    for i, (train_index, test_index) in enumerate(k_fold.split(X, y)):\n",
    "        print(\"K-Fold validation: Iteration {i}.\")\n",
    "        X_train, X_test = X.loc[train_index], X.loc[test_index]\n",
    "        y_train, y_test = y.loc[train_index], y.loc[test_index]\n",
    "        X_train, y_train = simple_perturbation(X_train, y_train, n_samples_per_class=n_samples_per_class)\n",
    "        scaler = StandardScaler()\n",
    "        X_train = scaler.fit_transform(X_train)\n",
    "        X_test = scaler.transform(X_test)\n",
    "        models = create_models(i)\n",
    "        best_params = get_best_params(X_train, y_train, models, params)\n",
    "        y_true[f'{i}'] = y_test\n",
    "        best_models = []\n",
    "        for model in models:\n",
    "            best_model = model.__class__(**best_params[model.name])\n",
    "            best_model.name = model.name\n",
    "            best_model.fit(X_train, y_train)\n",
    "            best_model.prediction = best_model.predict(X_test)\n",
    "            best_model.probability = best_model.predict_proba(X_test)\n",
    "            all_models[best_model.name] = best_model\n",
    "            best_models.append(best_model)\n",
    "        hard = f'Hard vote {i}'\n",
    "        soft = f'Soft vote {i}'\n",
    "        votes[hard] = hard_voting(best_models)\n",
    "        votes[soft] = soft_voting(best_models)\n",
    "        print(f'Hard vote f1 score: {f1_score(y_test, votes[hard], average=\"weighted\")}')\n",
    "        print(f'Soft vote f1 score: {f1_score(y_test, votes[soft], average=\"weighted\")}')\n",
    "    \n",
    "    return all_models, votes, y_true"
   ]
  },
  {
   "cell_type": "markdown",
   "metadata": {},
   "source": [
    "# TEST"
   ]
  },
  {
   "cell_type": "code",
   "execution_count": 16,
   "metadata": {},
   "outputs": [],
   "source": [
    "#Loading dataframes, Pooling and classes.\n",
    "path = \"./Data/data files/imputed\"\n",
    "starts_with = \"protein_lumbar\"\n",
    "dfs = import_csv_files(path=path, starts_with=starts_with)\n",
    "df_main = get_average_from_m_datasets(dfs)\n",
    "\n",
    "df_classes = pd.read_csv(\"./Data/data files/iNPH_data_protein_median.csv\", usecols=[\"Cortical_biopsy_grouping\", \"CSF_type\", \"TMT Set\"])\n",
    "df_classes = df_classes[df_classes[\"CSF_type\"] == \"L\"].reset_index(drop=True)\n",
    "tmt_set = df_classes[\"TMT Set\"]\n",
    "y = df_classes[\"Cortical_biopsy_grouping\"]"
   ]
  },
  {
   "cell_type": "code",
   "execution_count": 17,
   "metadata": {},
   "outputs": [],
   "source": [
    "#Models\n",
    "xgboost = XGBClassifier()\n",
    "xgboost.name = \"XGB\"\n",
    "lr = LogisticRegression()\n",
    "lr.name = \"LR\"\n",
    "rf = RandomForestClassifier()\n",
    "rf.name = \"RF\"\n",
    "\n",
    "models = [xgboost, lr, rf]"
   ]
  },
  {
   "cell_type": "code",
   "execution_count": 18,
   "metadata": {},
   "outputs": [],
   "source": [
    "#QUICK FOR TESTING\n",
    "xgboost_params = {\"min_child_weight\": [1],\n",
    "                  \"gamma\": [2],\n",
    "                  \"subsample\": [0.8],\n",
    "                  \"colsample_bytree\": [1.0],\n",
    "                  \"max_depth\": [3],\n",
    "                  \"n_estimators\": [50, 100]}\n",
    "lr_params = [{\"penalty\": [\"l1\"],\n",
    "              \"C\": [1],\n",
    "              \"solver\": [\"saga\"],\n",
    "              \"multi_class\": [\"multinomial\"],\n",
    "              \"max_iter\": [1000, 2000]\n",
    "             }]\n",
    "rf_params = {\"n_estimators\": [100, 300],\n",
    "             \"criterion\": [\"gini\"],\n",
    "             \"max_depth\": [ 20],\n",
    "             \"max_features\": [\"sqrt\"],\n",
    "             \"min_samples_leaf\": [2]}\n",
    "\n",
    "params = [xgboost_params, lr_params, rf_params]"
   ]
  },
  {
   "cell_type": "code",
   "execution_count": null,
   "metadata": {},
   "outputs": [],
   "source": [
    "#Parameters for GridSearchCV\n",
    "xgboost_params = {\"min_child_weight\": [1, 5, 10],\n",
    "                  \"gamma\": [0.5, 1, 1,5, 2, 5],\n",
    "                  \"subsample\": [0.6, 0.8, 1.0],\n",
    "                  \"colsample_bytree\": [0.6, 0.8, 1.0],\n",
    "                  \"max_depth\": [3, 4, 5],\n",
    "                  \"n_estimators\": [100, 500, 1000]}\n",
    "lr_params = [{\"penalty\": [\"l1\"],\n",
    "              \"C\": np.arange(0.2, 3.1, 0.2),\n",
    "              \"solver\": [\"saga\"],\n",
    "              \"multi_class\": [\"multinomial\"],\n",
    "              \"max_iter\": np.arange(1000, 10001, 2000)\n",
    "             }]\n",
    "rf_params = {\"n_estimators\": np.arange(100, 501, 100),\n",
    "             \"criterion\": [\"gini\", \"entropy\", \"log_loss\"],\n",
    "             \"max_depth\": [None, 10, 20, 40],\n",
    "             \"max_features\": [\"sqrt\", \"log2\"],\n",
    "             \"min_samples_leaf\": [1, 2, 4]}\n",
    "\n",
    "params = [xgboost_params, lr_params, rf_params]"
   ]
  },
  {
   "cell_type": "code",
   "execution_count": null,
   "metadata": {},
   "outputs": [],
   "source": [
    "pipeline(df_main, y, models, params, tmt_set)"
   ]
  },
  {
   "cell_type": "code",
   "execution_count": 21,
   "metadata": {},
   "outputs": [
    {
     "name": "stdout",
     "output_type": "stream",
     "text": [
      "Found 15 batches.\n",
      "Adjusting for 0 covariate(s) or covariate level(s).\n",
      "Standardizing Data across genes.\n",
      "Fitting L/S model and finding priors.\n",
      "Finding parametric adjustments.\n",
      "Adjusting the Data\n",
      "XGB 0 started.\n",
      "XGB 0 is done in 18.801113605499268 seconds.\n",
      "\n",
      "LR 0 started.\n"
     ]
    },
    {
     "name": "stderr",
     "output_type": "stream",
     "text": [
      "c:\\Users\\Toffe\\anaconda3\\Lib\\site-packages\\sklearn\\linear_model\\_sag.py:350: ConvergenceWarning: The max_iter was reached which means the coef_ did not converge\n",
      "  warnings.warn(\n"
     ]
    },
    {
     "name": "stdout",
     "output_type": "stream",
     "text": [
      "LR 0 is done in 70.27005362510681 seconds.\n",
      "\n",
      "RF 0 started.\n",
      "RF 0 is done in 10.36690354347229 seconds.\n",
      "\n"
     ]
    },
    {
     "name": "stderr",
     "output_type": "stream",
     "text": [
      "c:\\Users\\Toffe\\anaconda3\\Lib\\site-packages\\sklearn\\linear_model\\_sag.py:350: ConvergenceWarning: The max_iter was reached which means the coef_ did not converge\n",
      "  warnings.warn(\n"
     ]
    },
    {
     "name": "stdout",
     "output_type": "stream",
     "text": [
      "Hard vote f1 score: 0.4549019607843137\n",
      "Soft vote f1 score: 0.3411764705882353\n",
      "XGB 1 started.\n",
      "XGB 1 is done in 18.50291395187378 seconds.\n",
      "\n",
      "LR 1 started.\n"
     ]
    },
    {
     "name": "stderr",
     "output_type": "stream",
     "text": [
      "c:\\Users\\Toffe\\anaconda3\\Lib\\site-packages\\sklearn\\linear_model\\_sag.py:350: ConvergenceWarning: The max_iter was reached which means the coef_ did not converge\n",
      "  warnings.warn(\n"
     ]
    },
    {
     "name": "stdout",
     "output_type": "stream",
     "text": [
      "LR 1 is done in 70.7547287940979 seconds.\n",
      "\n",
      "RF 1 started.\n",
      "RF 1 is done in 7.394989252090454 seconds.\n",
      "\n"
     ]
    },
    {
     "name": "stderr",
     "output_type": "stream",
     "text": [
      "c:\\Users\\Toffe\\anaconda3\\Lib\\site-packages\\sklearn\\linear_model\\_sag.py:350: ConvergenceWarning: The max_iter was reached which means the coef_ did not converge\n",
      "  warnings.warn(\n"
     ]
    },
    {
     "name": "stdout",
     "output_type": "stream",
     "text": [
      "Hard vote f1 score: 0.37437485115503694\n",
      "Soft vote f1 score: 0.32679738562091504\n",
      "XGB 2 started.\n",
      "XGB 2 is done in 18.321603059768677 seconds.\n",
      "\n",
      "LR 2 started.\n"
     ]
    },
    {
     "name": "stderr",
     "output_type": "stream",
     "text": [
      "c:\\Users\\Toffe\\anaconda3\\Lib\\site-packages\\sklearn\\linear_model\\_sag.py:350: ConvergenceWarning: The max_iter was reached which means the coef_ did not converge\n",
      "  warnings.warn(\n"
     ]
    },
    {
     "name": "stdout",
     "output_type": "stream",
     "text": [
      "LR 2 is done in 69.68726563453674 seconds.\n",
      "\n",
      "RF 2 started.\n",
      "RF 2 is done in 7.4455461502075195 seconds.\n",
      "\n"
     ]
    },
    {
     "name": "stderr",
     "output_type": "stream",
     "text": [
      "c:\\Users\\Toffe\\anaconda3\\Lib\\site-packages\\sklearn\\linear_model\\_sag.py:350: ConvergenceWarning: The max_iter was reached which means the coef_ did not converge\n",
      "  warnings.warn(\n"
     ]
    },
    {
     "name": "stdout",
     "output_type": "stream",
     "text": [
      "Hard vote f1 score: 0.16568627450980392\n",
      "Soft vote f1 score: 0.17254901960784316\n",
      "XGB 3 started.\n",
      "XGB 3 is done in 20.138888597488403 seconds.\n",
      "\n",
      "LR 3 started.\n"
     ]
    },
    {
     "name": "stderr",
     "output_type": "stream",
     "text": [
      "c:\\Users\\Toffe\\anaconda3\\Lib\\site-packages\\sklearn\\linear_model\\_sag.py:350: ConvergenceWarning: The max_iter was reached which means the coef_ did not converge\n",
      "  warnings.warn(\n"
     ]
    },
    {
     "name": "stdout",
     "output_type": "stream",
     "text": [
      "LR 3 is done in 70.5841805934906 seconds.\n",
      "\n",
      "RF 3 started.\n",
      "RF 3 is done in 10.411997318267822 seconds.\n",
      "\n"
     ]
    },
    {
     "name": "stderr",
     "output_type": "stream",
     "text": [
      "c:\\Users\\Toffe\\anaconda3\\Lib\\site-packages\\sklearn\\linear_model\\_sag.py:350: ConvergenceWarning: The max_iter was reached which means the coef_ did not converge\n",
      "  warnings.warn(\n"
     ]
    },
    {
     "name": "stdout",
     "output_type": "stream",
     "text": [
      "Hard vote f1 score: 0.493194925028835\n",
      "Soft vote f1 score: 0.4411764705882353\n",
      "XGB 4 started.\n",
      "XGB 4 is done in 18.34523892402649 seconds.\n",
      "\n",
      "LR 4 started.\n"
     ]
    },
    {
     "name": "stderr",
     "output_type": "stream",
     "text": [
      "c:\\Users\\Toffe\\anaconda3\\Lib\\site-packages\\sklearn\\linear_model\\_sag.py:350: ConvergenceWarning: The max_iter was reached which means the coef_ did not converge\n",
      "  warnings.warn(\n"
     ]
    },
    {
     "name": "stdout",
     "output_type": "stream",
     "text": [
      "LR 4 is done in 70.09470176696777 seconds.\n",
      "\n",
      "RF 4 started.\n",
      "RF 4 is done in 10.272184133529663 seconds.\n",
      "\n"
     ]
    },
    {
     "name": "stderr",
     "output_type": "stream",
     "text": [
      "c:\\Users\\Toffe\\anaconda3\\Lib\\site-packages\\sklearn\\linear_model\\_sag.py:350: ConvergenceWarning: The max_iter was reached which means the coef_ did not converge\n",
      "  warnings.warn(\n"
     ]
    },
    {
     "name": "stdout",
     "output_type": "stream",
     "text": [
      "Hard vote f1 score: 0.5958747135217725\n",
      "Soft vote f1 score: 0.5958747135217725\n"
     ]
    }
   ],
   "source": [
    "all_models, votes, y_true = pipeline_2(df_main, y, params, tmt_set)"
   ]
  },
  {
   "cell_type": "code",
   "execution_count": 90,
   "metadata": {},
   "outputs": [],
   "source": [
    "import numpy as np\n",
    "import matplotlib.pyplot as plt\n",
    "from sklearn.metrics import confusion_matrix\n",
    "import itertools\n",
    "\n",
    "def plot_confusion_matrix(ax, cm, classes,\n",
    "                          normalize=False,\n",
    "                          title='Confusion matrix',\n",
    "                          cmap=plt.cm.Blues):\n",
    "    \"\"\"\n",
    "    This function prints and plots the confusion matrix.\n",
    "    Normalization can be applied by setting `normalize=True`.\n",
    "    \"\"\"\n",
    "    if normalize:\n",
    "        cm = cm.astype('float') / cm.sum(axis=1)[:, np.newaxis]\n",
    "        \n",
    "    ax.imshow(cm, interpolation='nearest', cmap=cmap)\n",
    "    ax.set_title(title)\n",
    "    tick_marks = np.arange(len(classes))\n",
    "    ax.set_xticks(tick_marks)\n",
    "    ax.set_xticklabels(classes, rotation=45)\n",
    "    ax.set_yticks(tick_marks)\n",
    "    ax.set_yticklabels(classes)\n",
    "\n",
    "    fmt = '.2f' if normalize else 'd'\n",
    "    thresh = cm.max() / 2.\n",
    "    for i, j in itertools.product(range(cm.shape[0]), range(cm.shape[1])):\n",
    "        ax.text(j, i, format(cm[i, j], fmt),\n",
    "                 horizontalalignment=\"center\",\n",
    "                 color=\"white\" if cm[i, j] > thresh else \"black\")\n",
    "\n",
    "    ax.set_ylabel('True label')\n",
    "    ax.set_xlabel('Predicted label')"
   ]
  },
  {
   "cell_type": "code",
   "execution_count": 91,
   "metadata": {},
   "outputs": [
    {
     "data": {
      "image/png": "[encoded data removed]",
      "text/plain": [
       "<Figure size 1200x600 with 2 Axes>"
      ]
     },
     "metadata": {},
     "output_type": "display_data"
    }
   ],
   "source": [
    "y_true_class = y_true[4]\n",
    "y_pred_class = votes[\"Soft vote 4\"]\n",
    "\n",
    "cnf_matrix = confusion_matrix(y_true_class, y_pred_class)\n",
    "np.set_printoptions(precision=2)\n",
    "fig, axs = plt.subplots(1, 2, figsize=(12, 6))\n",
    "\n",
    "plot_confusion_matrix(axs[0], cnf_matrix, classes=['CN', 'MCI', 'AD'],\n",
    "                      title='Confusion matrix, without normalization')\n",
    "\n",
    "plot_confusion_matrix(axs[1], cnf_matrix, classes=['CN', 'MCI', 'AD'], normalize=True,\n",
    "                      title='Normalized confusion matrix')\n",
    "\n",
    "plt.show()\n"
   ]
  },
  {
   "cell_type": "markdown",
   "metadata": {},
   "source": [
    "# IGNORE"
   ]
  },
  {
   "cell_type": "code",
   "execution_count": 18,
   "metadata": {},
   "outputs": [
    {
     "name": "stdout",
     "output_type": "stream",
     "text": [
      "Found 15 batches.\n",
      "Adjusting for 0 covariate(s) or covariate level(s).\n",
      "Standardizing Data across genes.\n",
      "Fitting L/S model and finding priors.\n",
      "Finding parametric adjustments.\n",
      "Adjusting the Data\n"
     ]
    }
   ],
   "source": [
    "#Fixing data\n",
    "X = run_combat(df_main, tmt_set)\n",
    "X_train, X_test, y_train, y_test = train_test_split(X, y, stratify=y, test_size=0.3)\n",
    "X_train, y_train = simple_perturbation(X_train, y_train, n_samples_per_class = 100)\n",
    "X_train = X_train.to_numpy()\n",
    "X_test = X_test.to_numpy()\n",
    "std_scaler = StandardScaler()\n",
    "X_train = std_scaler.fit_transform(X_train)\n",
    "X_test = std_scaler.transform(X_test)"
   ]
  },
  {
   "cell_type": "code",
   "execution_count": 48,
   "metadata": {},
   "outputs": [
    {
     "data": {
      "text/html": [
       "<style>#sk-container-id-3 {color: black;}#sk-container-id-3 pre{padding: 0;}#sk-container-id-3 div.sk-toggleable {background-color: white;}#sk-container-id-3 label.sk-toggleable__label {cursor: pointer;display: block;width: 100%;margin-bottom: 0;padding: 0.3em;box-sizing: border-box;text-align: center;}#sk-container-id-3 label.sk-toggleable__label-arrow:before {content: \"▸\";float: left;margin-right: 0.25em;color: #696969;}#sk-container-id-3 label.sk-toggleable__label-arrow:hover:before {color: black;}#sk-container-id-3 div.sk-estimator:hover label.sk-toggleable__label-arrow:before {color: black;}#sk-container-id-3 div.sk-toggleable__content {max-height: 0;max-width: 0;overflow: hidden;text-align: left;background-color: #f0f8ff;}#sk-container-id-3 div.sk-toggleable__content pre {margin: 0.2em;color: black;border-radius: 0.25em;background-color: #f0f8ff;}#sk-container-id-3 input.sk-toggleable__control:checked~div.sk-toggleable__content {max-height: 200px;max-width: 100%;overflow: auto;}#sk-container-id-3 input.sk-toggleable__control:checked~label.sk-toggleable__label-arrow:before {content: \"▾\";}#sk-container-id-3 div.sk-estimator input.sk-toggleable__control:checked~label.sk-toggleable__label {background-color: #d4ebff;}#sk-container-id-3 div.sk-label input.sk-toggleable__control:checked~label.sk-toggleable__label {background-color: #d4ebff;}#sk-container-id-3 input.sk-hidden--visually {border: 0;clip: rect(1px 1px 1px 1px);clip: rect(1px, 1px, 1px, 1px);height: 1px;margin: -1px;overflow: hidden;padding: 0;position: absolute;width: 1px;}#sk-container-id-3 div.sk-estimator {font-family: monospace;background-color: #f0f8ff;border: 1px dotted black;border-radius: 0.25em;box-sizing: border-box;margin-bottom: 0.5em;}#sk-container-id-3 div.sk-estimator:hover {background-color: #d4ebff;}#sk-container-id-3 div.sk-parallel-item::after {content: \"\";width: 100%;border-bottom: 1px solid gray;flex-grow: 1;}#sk-container-id-3 div.sk-label:hover label.sk-toggleable__label {background-color: #d4ebff;}#sk-container-id-3 div.sk-serial::before {content: \"\";position: absolute;border-left: 1px solid gray;box-sizing: border-box;top: 0;bottom: 0;left: 50%;z-index: 0;}#sk-container-id-3 div.sk-serial {display: flex;flex-direction: column;align-items: center;background-color: white;padding-right: 0.2em;padding-left: 0.2em;position: relative;}#sk-container-id-3 div.sk-item {position: relative;z-index: 1;}#sk-container-id-3 div.sk-parallel {display: flex;align-items: stretch;justify-content: center;background-color: white;position: relative;}#sk-container-id-3 div.sk-item::before, #sk-container-id-3 div.sk-parallel-item::before {content: \"\";position: absolute;border-left: 1px solid gray;box-sizing: border-box;top: 0;bottom: 0;left: 50%;z-index: -1;}#sk-container-id-3 div.sk-parallel-item {display: flex;flex-direction: column;z-index: 1;position: relative;background-color: white;}#sk-container-id-3 div.sk-parallel-item:first-child::after {align-self: flex-end;width: 50%;}#sk-container-id-3 div.sk-parallel-item:last-child::after {align-self: flex-start;width: 50%;}#sk-container-id-3 div.sk-parallel-item:only-child::after {width: 0;}#sk-container-id-3 div.sk-dashed-wrapped {border: 1px dashed gray;margin: 0 0.4em 0.5em 0.4em;box-sizing: border-box;padding-bottom: 0.4em;background-color: white;}#sk-container-id-3 div.sk-label label {font-family: monospace;font-weight: bold;display: inline-block;line-height: 1.2em;}#sk-container-id-3 div.sk-label-container {text-align: center;}#sk-container-id-3 div.sk-container {/* jupyter's `normalize.less` sets `[hidden] { display: none; }` but bootstrap.min.css set `[hidden] { display: none !important; }` so we also need the `!important` here to be able to override the default hidden behavior on the sphinx rendered scikit-learn.org. See: https://github.com/scikit-learn/scikit-learn/issues/21755 */display: inline-block !important;position: relative;}#sk-container-id-3 div.sk-text-repr-fallback {display: none;}</style><div id=\"sk-container-id-3\" class=\"sk-top-container\"><div class=\"sk-text-repr-fallback\"><pre>RandomForestClassifier()</pre><b>In a Jupyter environment, please rerun this cell to show the HTML representation or trust the notebook. <br />On GitHub, the HTML representation is unable to render, please try loading this page with nbviewer.org.</b></div><div class=\"sk-container\" hidden><div class=\"sk-item\"><div class=\"sk-estimator sk-toggleable\"><input class=\"sk-toggleable__control sk-hidden--visually\" id=\"sk-estimator-id-3\" type=\"checkbox\" checked><label for=\"sk-estimator-id-3\" class=\"sk-toggleable__label sk-toggleable__label-arrow\">RandomForestClassifier</label><div class=\"sk-toggleable__content\"><pre>RandomForestClassifier()</pre></div></div></div></div></div>"
      ],
      "text/plain": [
       "RandomForestClassifier()"
      ]
     },
     "execution_count": 48,
     "metadata": {},
     "output_type": "execute_result"
    }
   ],
   "source": [
    "#Fitting\n",
    "lr.fit(X_train, y_train)\n",
    "xgboost.fit(X_train, y_train)\n",
    "rf.fit(X_train, y_train)"
   ]
  },
  {
   "cell_type": "code",
   "execution_count": 20,
   "metadata": {},
   "outputs": [],
   "source": [
    "#Result dictionary\n",
    "dic = {}\n",
    "voting = {}\n",
    "for i in range(5):\n",
    "    temp = {}\n",
    "    for clf in models:\n",
    "        pred = f'{clf.name} Pred {i}'\n",
    "        prob = f'{clf.name} Proba {i}'\n",
    "        temp[pred] = list(clf.predict(X_test))\n",
    "        temp[prob] = list(clf.predict_proba(X_test))\n",
    "        clf.predictions = list(clf.predict(X_test))\n",
    "        clf.probabilities = list(clf.predict_proba(X_test))\n",
    "        dic[f'{clf.name} Model {i}'] = clf\n",
    "        \n",
    "    #Voting results\n",
    "    hard = f'Hard vote {i}'\n",
    "    soft = f'Soft vote {i}'\n",
    "    voting[hard] = hard_voting(models)\n",
    "    voting[soft] = soft_voting(models)"
   ]
  },
  {
   "cell_type": "code",
   "execution_count": 38,
   "metadata": {},
   "outputs": [],
   "source": [
    "#Wrapper func till get_average_feature_importance LR / RF + XGB"
   ]
  }
 ],
 "metadata": {
  "kernelspec": {
   "display_name": "Python 3",
   "language": "python",
   "name": "python3"
  },
  "language_info": {
   "codemirror_mode": {
    "name": "ipython",
    "version": 3
   },
   "file_extension": ".py",
   "mimetype": "text/x-python",
   "name": "python",
   "nbconvert_exporter": "python",
   "pygments_lexer": "ipython3",
   "version": "3.11.5"
  }
 },
 "nbformat": 4,
 "nbformat_minor": 2
}
